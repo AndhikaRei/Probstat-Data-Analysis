{
 "cells": [
  {
   "cell_type": "markdown",
   "metadata": {},
   "source": [
    "# Section 0 - Persiapan\n",
    "## Import Library\n",
    "Import library yang akan digunakan"
   ]
  },
  {
   "cell_type": "code",
   "execution_count": null,
   "metadata": {},
   "outputs": [],
   "source": [
    "import pandas as pd\n",
    "import numpy as np\n",
    "from scipy import stats as st\n",
    "import matplotlib.pyplot as plt\n",
    "import seaborn as sns\n",
    "import math\n",
    "%matplotlib inline"
   ]
  },
  {
   "cell_type": "markdown",
   "metadata": {},
   "source": [
    "## Pembacaan Data\n",
    "Pembacaan data dari file eksternal dan pemberian untuk setiap nama kolom."
   ]
  },
  {
   "cell_type": "code",
   "execution_count": null,
   "metadata": {},
   "outputs": [],
   "source": [
    "column = [\"id\",\"Daerah\",\"SumbuUtama\",\"SumbuKecil\",\"Keunikan\",\"AreaBulatan\",\"Diameter\",\n",
    "          \"KadarAir\",\"Keliling\",\"Bulatan\",\"Ransum\",\"Kelas\"]\n",
    "df = pd.read_csv('Gandum.csv',names = column)\n",
    "df"
   ]
  },
  {
   "cell_type": "markdown",
   "metadata": {},
   "source": [
    "# Section 1 - Descriptive Statistics\n",
    "Menulis deskripsi statistika (Descriptive Statistics) dari semua kolom pada data yang bersifat\n",
    "numerik, terdiri dari mean, median, modus, standar deviasi, variansi, range, nilai minimum,\n",
    "maksimum, kuartil, IQR, skewness dan kurtosis. Perhitungan nilai kurtosis menggunakan definisi Pearson. Ditambahkan juga perhitungan jumlah data untuk setiap kolom."
   ]
  },
  {
   "cell_type": "code",
   "execution_count": null,
   "metadata": {},
   "outputs": [],
   "source": [
    "# Prosedur untuk menulis deskripsi statistik dari suatu kolom di tabel\n",
    "def printStatistic(Column):\n",
    "    # Tulis statistik deskriptif dari kolom Column\n",
    "    print(\"count\\t\\t\\t: {}\".format(len(Column)))\n",
    "    print(\"mean\\t\\t\\t: {}\".format(Column.mean()))\n",
    "    print(\"median\\t\\t\\t: {}\".format(Column.median()))\n",
    "    print(\"modus\\t\\t\\t: {}\".format(', '.join(map(str, Column.mode()))))\n",
    "    print(\"standar deviasi\\t\\t: {}\".format(Column.std()))\n",
    "    print(\"variansi\\t\\t: {}\".format(Column.std()**2))\n",
    "    print(\"range\\t\\t\\t: {}\".format(Column.max()-Column.min()))\n",
    "    print(\"nilai minimum\\t\\t: {}\".format(Column.min()))\n",
    "    print(\"nilai maksimum\\t\\t: {}\".format(Column.max()))\n",
    "    quartiles = Column.quantile([0,0.25,0.5,0.75,1])\n",
    "    for i,quartile in enumerate(quartiles):\n",
    "        print(\"quartil-{}\\t\\t: {}\".format(i,quartile))\n",
    "    print(\"IQR\\t\\t\\t: {}\".format(quartiles[0.75]-quartiles[0.25]))\n",
    "    print(\"skewness\\t\\t: {}\".format(Column.skew()))\n",
    "    print(\"kurtosis\\t\\t: {}\".format(st.kurtosis(Column, fisher=False)))"
   ]
  },
  {
   "cell_type": "markdown",
   "metadata": {},
   "source": [
    "## 1. id\n",
    "Id tidak perlu ditulis deskripsi statistikanya karena id merepresentasikan identifier yang unik untuk tiap ransum."
   ]
  },
  {
   "cell_type": "markdown",
   "metadata": {},
   "source": [
    "## 2. Daerah"
   ]
  },
  {
   "cell_type": "code",
   "execution_count": null,
   "metadata": {},
   "outputs": [],
   "source": [
    "# Ambil kolom daerah\n",
    "Daerah = df[\"Daerah\"]\n",
    "# Tulis statistik deskriptif dari kolom daerah\n",
    "print(\"Statistik deskriptif kolom daerah\")\n",
    "printStatistic(Daerah)"
   ]
  },
  {
   "cell_type": "markdown",
   "metadata": {},
   "source": [
    "## 3. SumbuUtama"
   ]
  },
  {
   "cell_type": "code",
   "execution_count": null,
   "metadata": {},
   "outputs": [],
   "source": [
    "# Ambil kolom SumbuUtama\n",
    "SumbuUtama = df[\"SumbuUtama\"]\n",
    "# Tulis statistik deskriptif dari kolom SumbuUtama\n",
    "print(\"Statistik deskriptif kolom SumbuUtama\")\n",
    "printStatistic(SumbuUtama)"
   ]
  },
  {
   "cell_type": "markdown",
   "metadata": {},
   "source": [
    "## 4. SumbuKecil"
   ]
  },
  {
   "cell_type": "code",
   "execution_count": null,
   "metadata": {},
   "outputs": [],
   "source": [
    "# Ambil kolom SumbuKecil\n",
    "SumbuKecil = df[\"SumbuKecil\"]\n",
    "# Tulis statistik deskriptif dari kolom SumbuKecil\n",
    "print(\"Statistik deskriptif kolom SumbuKecil\")\n",
    "printStatistic(SumbuKecil)"
   ]
  },
  {
   "cell_type": "markdown",
   "metadata": {},
   "source": [
    "## 5. Keunikan"
   ]
  },
  {
   "cell_type": "code",
   "execution_count": null,
   "metadata": {},
   "outputs": [],
   "source": [
    "# Ambil kolom Keunikan\n",
    "Keunikan = df[\"Keunikan\"]\n",
    "# Tulis statistik deskriptif dari kolom Keunikan\n",
    "print(\"Statistik deskriptif kolom Keunikan\")\n",
    "printStatistic(Keunikan)"
   ]
  },
  {
   "cell_type": "markdown",
   "metadata": {},
   "source": [
    "## 6. AreaBulatan"
   ]
  },
  {
   "cell_type": "code",
   "execution_count": null,
   "metadata": {},
   "outputs": [],
   "source": [
    "# Ambil kolom AreaBulatan\n",
    "AreaBulatan = df[\"AreaBulatan\"]\n",
    "# Tulis statistik deskriptif dari kolom AreaBulatan\n",
    "print(\"Statistik deskriptif kolom AreaBulatan\")\n",
    "printStatistic(AreaBulatan)"
   ]
  },
  {
   "cell_type": "markdown",
   "metadata": {},
   "source": [
    "## 7. Diameter"
   ]
  },
  {
   "cell_type": "code",
   "execution_count": null,
   "metadata": {},
   "outputs": [],
   "source": [
    "# Ambil kolom Diameter\n",
    "Diameter = df[\"Diameter\"]\n",
    "# Tulis statistik deskriptif dari kolom Diameter\n",
    "print(\"Statistik deskriptif kolom Diameter\")\n",
    "printStatistic(Diameter)"
   ]
  },
  {
   "cell_type": "markdown",
   "metadata": {},
   "source": [
    "## 8. KadarAir"
   ]
  },
  {
   "cell_type": "code",
   "execution_count": null,
   "metadata": {},
   "outputs": [],
   "source": [
    "# Ambil kolom KadarAir\n",
    "KadarAir = df[\"KadarAir\"]\n",
    "# Tulis statistik deskriptif dari kolom KadarAir\n",
    "print(\"Statistik deskriptif kolom KadarAir\")\n",
    "printStatistic(KadarAir)"
   ]
  },
  {
   "cell_type": "markdown",
   "metadata": {},
   "source": [
    "## 9. Keliling"
   ]
  },
  {
   "cell_type": "code",
   "execution_count": null,
   "metadata": {},
   "outputs": [],
   "source": [
    "# Ambil kolom Keliling\n",
    "Keliling = df[\"Keliling\"]\n",
    "# Tulis statistik deskriptif dari kolom Keliling\n",
    "print(\"Statistik deskriptif kolom Keliling\")\n",
    "printStatistic(Keliling)"
   ]
  },
  {
   "cell_type": "markdown",
   "metadata": {},
   "source": [
    "## 10. Bulatan"
   ]
  },
  {
   "cell_type": "code",
   "execution_count": null,
   "metadata": {},
   "outputs": [],
   "source": [
    "# Ambil kolom Bulatan\n",
    "Bulatan = df[\"Bulatan\"]\n",
    "# Tulis statistik deskriptif dari kolom Bulatan\n",
    "print(\"Statistik deskriptif kolom Bulatan\")\n",
    "printStatistic(Bulatan)"
   ]
  },
  {
   "cell_type": "markdown",
   "metadata": {},
   "source": [
    "## 11. Ransum"
   ]
  },
  {
   "cell_type": "code",
   "execution_count": null,
   "metadata": {},
   "outputs": [],
   "source": [
    "# Ambil kolom Ransum\n",
    "Ransum = df[\"Ransum\"]\n",
    "# Tulis statistik deskriptif dari kolom Ransum\n",
    "print(\"Statistik deskriptif kolom Ransum\")\n",
    "printStatistic(Ransum)"
   ]
  },
  {
   "cell_type": "markdown",
   "metadata": {},
   "source": [
    "## 12. Kelas\n",
    "Kelas tidak perlu ditulis deskripsi statistikanya karena kelas merepresentasikan kelas dari suatu gandum dan tidak bisa dihitung statistik deskriptifnya."
   ]
  },
  {
   "cell_type": "markdown",
   "metadata": {},
   "source": [
    "# Section 2 - Data Visualization\n",
    "Membuat Visualisasi plot distribusi, dalam bentuk histogram dan boxplot untuk setiap\n",
    "kolom numerik. Berikan uraian penjelasan kondisi setiap kolom berdasarkan kedua plot\n",
    "tersebut."
   ]
  },
  {
   "cell_type": "markdown",
   "metadata": {},
   "source": [
    "## 1. id\n",
    "Id tidak tidak bisa di visualisasikan karena alasan seperti pada section 1"
   ]
  },
  {
   "cell_type": "markdown",
   "metadata": {},
   "source": [
    "## 2.Daerah"
   ]
  },
  {
   "cell_type": "code",
   "execution_count": null,
   "metadata": {},
   "outputs": [],
   "source": [
    "# Konfigurasi Histogram\n",
    "plt.figure(figsize=(11,6))\n",
    "plt.grid()\n",
    "# Penggambaran Histogram\n",
    "HistDaerah =sns.histplot(Daerah, kde=True)\n",
    "HistDaerah.set_title(\"Histogram Daerah\")\n",
    "HistDaerah.set_ylabel(\"Frekuensi\")"
   ]
  },
  {
   "cell_type": "markdown",
   "metadata": {},
   "source": [
    "Berdasarkan histogram diatas, didapatkan sebuah informasi bahwa data pada kolom Daerah terdistribusi secara simetris sehingga bersifat No Skew (Normal) dan berbentuk tidak runcing dan tidak landai sehingga bersifat mesokurtis. "
   ]
  },
  {
   "cell_type": "code",
   "execution_count": null,
   "metadata": {},
   "outputs": [],
   "source": [
    "# Konfigurasi Boxplot\n",
    "plt.figure(figsize=(6,8))\n",
    "plt.grid()\n",
    "# Penggambaran Boxplot\n",
    "BoxPlotDaerah= sns.boxplot(data=Daerah)\n",
    "BoxPlotDaerah.set_title(\"BoxPlot Daerah\")\n",
    "plt.yticks(np.arange(int(round(min(Daerah),-2)), max(Daerah), 300))"
   ]
  },
  {
   "cell_type": "markdown",
   "metadata": {},
   "source": [
    "Berdasarkan Boxplot diatas dapat diketahui bahwa nilai minimum dari kolom Daerah sekitar 2500, nilai Q1 sekitar 4000, nilai Q2 atau median sekitar 4700, nilai Q3 sekitar 5500, dan nilai maksimal sekitar 7400. Boxplot ini juga menunjukan bahwa kolom Daerah tidak memiliki pencilan."
   ]
  },
  {
   "cell_type": "markdown",
   "metadata": {},
   "source": [
    "## 3.SumbuUtama"
   ]
  },
  {
   "cell_type": "code",
   "execution_count": null,
   "metadata": {},
   "outputs": [],
   "source": [
    "# Konfigurasi Histogram\n",
    "plt.figure(figsize=(11,6))\n",
    "plt.grid()\n",
    "# Penggambaran Histogram\n",
    "HistSumbuUtama =sns.histplot(SumbuUtama, kde=True)\n",
    "HistSumbuUtama.set_title(\"Histogram SumbuUtama\")\n",
    "HistSumbuUtama.set_ylabel(\"Frekuensi\")"
   ]
  },
  {
   "cell_type": "markdown",
   "metadata": {},
   "source": [
    "Berdasarkan histogram diatas, didapatkan sebuah informasi bahwa data pada kolom SumbuUtama terdistribusi secara condong ke kanan sehingga bersifat Positively skewed dan berbentuk cukup runcing sehingga bersifat Leptokurtis."
   ]
  },
  {
   "cell_type": "code",
   "execution_count": null,
   "metadata": {},
   "outputs": [],
   "source": [
    "# Konfigurasi Boxplot\n",
    "plt.figure(figsize=(6,8))\n",
    "plt.grid()\n",
    "# Penggambaran Boxplot\n",
    "BoxPlotSumbuUtama= sns.boxplot(data=SumbuUtama)\n",
    "BoxPlotSumbuUtama.set_title(\"BoxPlot SumbuUtama\")"
   ]
  },
  {
   "cell_type": "markdown",
   "metadata": {},
   "source": [
    "Berdasarkan Boxplot diatas dapat diketahui bahwa nilai minimum dari kolom SumbuUtama sekitar 75, nilai Q1 sekitar 105, nilai Q2 atau median sekitar 115, nilai Q3 sekitar 130, dan nilai maksimal sekitar 230. Boxplot ini juga menunjukan bahwa kolom SumbuUtama memiliki pencilan atas dengan nilai di sekitar 230."
   ]
  },
  {
   "cell_type": "markdown",
   "metadata": {},
   "source": [
    "## 4. SumbuKecil"
   ]
  },
  {
   "cell_type": "code",
   "execution_count": null,
   "metadata": {},
   "outputs": [],
   "source": [
    "# Konfigurasi Histogram\n",
    "plt.figure(figsize=(11,6))\n",
    "plt.grid()\n",
    "# Penggambaran Histogram\n",
    "HistSumbuKecil =sns.histplot(SumbuKecil, kde=True)\n",
    "HistSumbuKecil.set_title(\"Histogram SumbuKecil\")\n",
    "HistSumbuKecil.set_ylabel(\"Frekuensi\")"
   ]
  },
  {
   "cell_type": "markdown",
   "metadata": {},
   "source": [
    "Berdasarkan histogram diatas, didapatkan sebuah informasi bahwa data pada kolom SumbuKecil terdistribusi secara simetris sehingga bersifat No Skew (Normal) dan berbentuk tidak runcing dan tidak landai sehingga bersifat Mesokurtis. "
   ]
  },
  {
   "cell_type": "code",
   "execution_count": null,
   "metadata": {},
   "outputs": [],
   "source": [
    "# Konfigurasi Boxplot\n",
    "plt.figure(figsize=(6,8))\n",
    "plt.grid()\n",
    "# Penggambaran Boxplot\n",
    "BoxPlotSumbuKecil= sns.boxplot(data=SumbuKecil)\n",
    "BoxPlotSumbuKecil.set_title(\"BoxPlot SumbuKecil\")"
   ]
  },
  {
   "cell_type": "markdown",
   "metadata": {},
   "source": [
    "Berdasarkan Boxplot diatas dapat diketahui bahwa nilai minimum dari kolom SumbuKecil sekitar 40, nilai Q1 sekitar 51, nilai Q2 atau median sekitar 54, nilai Q3 sekitar 56, dan nilai maksimal sekitar 69. Boxplot ini juga menunjukan bahwa kolom SumbuKecil memiliki beberapa pencilan yaitu 4 pencilan bawah dengan nilai di sekitar 40-44 dan 2 pencilan atas dengan nilai di sekitar 66-69."
   ]
  },
  {
   "cell_type": "markdown",
   "metadata": {},
   "source": [
    "## 5. Keunikan"
   ]
  },
  {
   "cell_type": "code",
   "execution_count": null,
   "metadata": {},
   "outputs": [],
   "source": [
    "# Konfigurasi Histogram\n",
    "plt.figure(figsize=(11,6))\n",
    "plt.grid()\n",
    "# Penggambaran Histogram\n",
    "HistKeunikan =sns.histplot(Keunikan, kde=True)\n",
    "HistKeunikan.set_title(\"Histogram Keunikan\")\n",
    "HistKeunikan.set_ylabel(\"Frekuensi\")"
   ]
  },
  {
   "cell_type": "markdown",
   "metadata": {},
   "source": [
    "Berdasarkan histogram diatas, didapatkan sebuah informasi bahwa data pada kolom Keunikan terdistribusi secara condong ke kiri sehingga bersifat Negatively Skewed dan berbentuk runcing sehingga bersifat Leptokurtis."
   ]
  },
  {
   "cell_type": "code",
   "execution_count": null,
   "metadata": {},
   "outputs": [],
   "source": [
    "# Konfigurasi Boxplot\n",
    "plt.figure(figsize=(6,8))\n",
    "plt.grid()\n",
    "# Penggambaran Boxplot\n",
    "BoxPlotKeunikan= sns.boxplot(data=Keunikan)\n",
    "BoxPlotKeunikan.set_title(\"BoxPlot Keunikan\")"
   ]
  },
  {
   "cell_type": "markdown",
   "metadata": {},
   "source": [
    "Berdasarkan Boxplot diatas dapat diketahui bahwa nilai minimum dari kolom Keunikan sekitar 0.72, nilai Q1 sekitar 0.865, nilai Q2 atau median sekitar 0.890, nilai Q3 sekitar 0.910, dan nilai maksimal sekitar 0.915. Boxplot ini juga menunjukan bahwa kolom Keunikan memiliki beberapa pencilan bawah dengan nilai dibawah 0.8."
   ]
  },
  {
   "cell_type": "markdown",
   "metadata": {},
   "source": [
    "## 6. AreaBulatan"
   ]
  },
  {
   "cell_type": "code",
   "execution_count": null,
   "metadata": {},
   "outputs": [],
   "source": [
    "# Konfigurasi Histogram\n",
    "plt.figure(figsize=(11,6))\n",
    "plt.grid()\n",
    "# Penggambaran Histogram\n",
    "HistAreaBulatan =sns.histplot(AreaBulatan, kde=True)\n",
    "HistAreaBulatan.set_title(\"Histogram AreaBulatan\")\n",
    "HistAreaBulatan.set_ylabel(\"Frekuensi\")  "
   ]
  },
  {
   "cell_type": "markdown",
   "metadata": {},
   "source": [
    "Berdasarkan histogram diatas, didapatkan sebuah informasi bahwa data pada kolom AreaBulatan terdistribusi secara simetris sehingga bersifat No Skew (Normal) dan berbentuk tidak runcing dan tidak landai sehingga bersifat Mesokurtis."
   ]
  },
  {
   "cell_type": "code",
   "execution_count": null,
   "metadata": {},
   "outputs": [],
   "source": [
    "# Konfigurasi Boxplot\n",
    "plt.figure(figsize=(6,8))\n",
    "plt.grid()\n",
    "# Penggambaran Boxplot\n",
    "BoxPlotAreaBulatan= sns.boxplot(data=AreaBulatan)\n",
    "BoxPlotAreaBulatan.set_title(\"BoxPlot AreaBulatan\")\n",
    "plt.yticks(np.arange(int(round(min(AreaBulatan),-2)), max(AreaBulatan), 300))"
   ]
  },
  {
   "cell_type": "markdown",
   "metadata": {},
   "source": [
    "Berdasarkan Boxplot diatas dapat diketahui bahwa nilai minimum dari kolom AreaBulatan sekitar 2600, nilai Q1 sekitar 4200, nilai Q2 atau median sekitar 4900, nilai Q3 sekitar 5600, dan nilai maksimal sekitar 7700. Boxplot ini juga menunjukan bahwa kolom AreaBulatan tidak memiliki pencilan."
   ]
  },
  {
   "cell_type": "markdown",
   "metadata": {},
   "source": [
    "## 7. Diameter"
   ]
  },
  {
   "cell_type": "code",
   "execution_count": null,
   "metadata": {
    "scrolled": true
   },
   "outputs": [],
   "source": [
    "# Konfigurasi Histogram\n",
    "plt.figure(figsize=(11,6))\n",
    "plt.grid()\n",
    "# Penggambaran Histogram\n",
    "HistDiameter =sns.histplot(Diameter, kde=True)\n",
    "HistDiameter.set_title(\"Histogram Diameter\")\n",
    "HistDiameter.set_ylabel(\"Frekuensi\")"
   ]
  },
  {
   "cell_type": "markdown",
   "metadata": {},
   "source": [
    "Berdasarkan histogram diatas, didapatkan sebuah informasi bahwa data pada kolom Diameter terdistribusi secara simetris sehingga bersifat No Skew (Normal) dan berbentuk tidak runcing dan tidak landai sehingga bersifat Mesokurtis."
   ]
  },
  {
   "cell_type": "code",
   "execution_count": null,
   "metadata": {},
   "outputs": [],
   "source": [
    "# Konfigurasi Boxplot\n",
    "plt.figure(figsize=(6,8))\n",
    "plt.grid()\n",
    "# Penggambaran Boxplot\n",
    "BoxPlotDiameter= sns.boxplot(data=Diameter)\n",
    "BoxPlotDiameter.set_title(\"BoxPlot Diameter\")"
   ]
  },
  {
   "cell_type": "markdown",
   "metadata": {},
   "source": [
    "Berdasarkan Boxplot diatas dapat diketahui bahwa nilai minimum dari kolom Diameter sekitar 57, nilai Q1 sekitar 72, nilai Q2 atau median sekitar 78, nilai Q3 sekitar 84, dan nilai maksimal sekitar 97. Boxplot ini juga menunjukan bahwa kolom Diameter tidak memiliki pencilan."
   ]
  },
  {
   "cell_type": "markdown",
   "metadata": {},
   "source": [
    "## 8. Kadar Air"
   ]
  },
  {
   "cell_type": "code",
   "execution_count": null,
   "metadata": {
    "scrolled": true
   },
   "outputs": [],
   "source": [
    "# Konfigurasi Histogram\n",
    "plt.figure(figsize=(11,6))\n",
    "plt.grid()\n",
    "# Penggambaran Histogram\n",
    "HistKadarAir =sns.histplot(KadarAir, kde=True)\n",
    "HistKadarAir.set_title(\"Histogram KadarAir\")\n",
    "HistKadarAir.set_ylabel(\"Frekuensi\")"
   ]
  },
  {
   "cell_type": "markdown",
   "metadata": {},
   "source": [
    "Berdasarkan histogram diatas, didapatkan sebuah informasi bahwa data pada kolom KadarAir terdistribusi secara simetris sehingga bersifat No Skew (Normal) dan berbentuk landai sehingga bersifat Platykurtis."
   ]
  },
  {
   "cell_type": "code",
   "execution_count": null,
   "metadata": {},
   "outputs": [],
   "source": [
    "# Konfigurasi Boxplot\n",
    "plt.figure(figsize=(6,8))\n",
    "plt.grid()\n",
    "# Penggambaran Boxplot\n",
    "BoxPlotKadarAir= sns.boxplot(data=KadarAir)\n",
    "BoxPlotKadarAir.set_title(\"BoxPlot KadarAir\")"
   ]
  },
  {
   "cell_type": "markdown",
   "metadata": {},
   "source": [
    "Berdasarkan Boxplot diatas dapat diketahui bahwa nilai minimum dari kolom KadarAir sekitar 0.41, nilai Q1 sekitar 0.58, nilai Q2 atau median sekitar 0.63, nilai Q3 sekitar 0.73, dan nilai maksimal sekitar 0.88. Boxplot ini juga menunjukan bahwa kolom KadarAir tidak memiliki pencilan."
   ]
  },
  {
   "cell_type": "markdown",
   "metadata": {},
   "source": [
    "## 9. Keliling"
   ]
  },
  {
   "cell_type": "code",
   "execution_count": null,
   "metadata": {},
   "outputs": [],
   "source": [
    "# Konfigurasi Histogram\n",
    "plt.figure(figsize=(11,6))\n",
    "plt.grid()\n",
    "# Penggambaran Histogram\n",
    "HistKeliling =sns.histplot(Keliling, kde=True)\n",
    "HistKeliling.set_title(\"Histogram Keliling\")\n",
    "HistKeliling.set_ylabel(\"Frekuensi\")"
   ]
  },
  {
   "cell_type": "markdown",
   "metadata": {},
   "source": [
    "Berdasarkan histogram diatas, didapatkan sebuah informasi bahwa data pada kolom Keliling terdistribusi secara condong ke kanan sehingga bersifat Positively Skewed dan berbentuk runcing sehingga bersifat Leptokurtis."
   ]
  },
  {
   "cell_type": "code",
   "execution_count": null,
   "metadata": {},
   "outputs": [],
   "source": [
    "# Konfigurasi Boxplot\n",
    "plt.figure(figsize=(6,8))\n",
    "plt.grid()\n",
    "# Penggambaran Boxplot\n",
    "BoxPlotKeliling= sns.boxplot(data=Keliling)\n",
    "BoxPlotKeliling.set_title(\"BoxPlot Keliling\")"
   ]
  },
  {
   "cell_type": "markdown",
   "metadata": {},
   "source": [
    "Berdasarkan Boxplot diatas dapat diketahui bahwa nilai minimum dari kolom Keliling sekitar 200, nilai Q1 sekitar 260, nilai Q2 atau median sekitar 280, nilai Q3 sekitar 310, dan nilai maksimal sekitar 490. Boxplot ini juga menunjukan bahwa kolom Keliling memiliki 4 pencilan atas dengan nilai sekitar 390, 440, 450, dan 490."
   ]
  },
  {
   "cell_type": "markdown",
   "metadata": {},
   "source": [
    "## 10. Bulatan"
   ]
  },
  {
   "cell_type": "code",
   "execution_count": null,
   "metadata": {},
   "outputs": [],
   "source": [
    "# Konfigurasi Histogram\n",
    "plt.figure(figsize=(11,6))\n",
    "plt.grid()\n",
    "# Penggambaran Histogram\n",
    "HistBulatan =sns.histplot(Bulatan, kde=True)\n",
    "HistBulatan.set_title(\"Histogram Bulatan\")\n",
    "HistBulatan.set_ylabel(\"Frekuensi\")"
   ]
  },
  {
   "cell_type": "markdown",
   "metadata": {},
   "source": [
    "Berdasarkan histogram diatas, didapatkan sebuah informasi bahwa data pada kolom Bulatan terdistribusi secara condong ke kiri sehingga bersifat Negatively Skewed dan berbentuk sedikit runcing sehingga bersifat Leptokurtis."
   ]
  },
  {
   "cell_type": "code",
   "execution_count": null,
   "metadata": {},
   "outputs": [],
   "source": [
    "# Konfigurasi Boxplot\n",
    "plt.figure(figsize=(6,8))\n",
    "plt.grid()\n",
    "# Penggambaran Boxplot\n",
    "BoxPlotBulatan= sns.boxplot(data=Bulatan)\n",
    "BoxPlotBulatan.set_title(\"BoxPlot Bulatan\")"
   ]
  },
  {
   "cell_type": "markdown",
   "metadata": {},
   "source": [
    "Berdasarkan Boxplot diatas dapat diketahui bahwa nilai minimum dari kolom Bulatan sekitar 0.18, nilai Q1 sekitar 0.74, nilai Q2 atau median sekitar 0.76, nilai Q3 sekitar 0.8, dan nilai maksimal sekitar 0.9. Boxplot ini juga menunjukan bahwa kolom Bulatan memiliki beberapa pencilan yaitu 6 pencilan bawah dengan nilai dibawah 0.65 dan 1 pencilan atas dengan nilai sekitar 0.9."
   ]
  },
  {
   "cell_type": "markdown",
   "metadata": {},
   "source": [
    "## 11. Ransum"
   ]
  },
  {
   "cell_type": "code",
   "execution_count": null,
   "metadata": {},
   "outputs": [],
   "source": [
    "# Konfigurasi Histogram\n",
    "plt.figure(figsize=(11,6))\n",
    "plt.grid()\n",
    "# Penggambaran Histogram\n",
    "HistRansum =sns.histplot(Ransum, kde=True)\n",
    "HistRansum.set_title(\"Histogram Ransum\")\n",
    "HistRansum.set_ylabel(\"Frekuensi\")"
   ]
  },
  {
   "cell_type": "markdown",
   "metadata": {},
   "source": [
    "Berdasarkan histogram diatas, didapatkan sebuah informasi bahwa data pada kolom Ransum terdistribusi secara condong ke kiri sehingga bersifat Negatively Skewed dan berbentuk tidak runcing dan tidak landai sehingga bersifat Mesokurtis."
   ]
  },
  {
   "cell_type": "code",
   "execution_count": null,
   "metadata": {},
   "outputs": [],
   "source": [
    "# Konfigurasi Boxplot\n",
    "plt.figure(figsize=(6,8))\n",
    "plt.grid()\n",
    "# Penggambaran Boxplot\n",
    "BoxPlotRansum= sns.boxplot(data=Ransum)\n",
    "BoxPlotRansum.set_title(\"BoxPlot Ransum\")"
   ]
  },
  {
   "cell_type": "markdown",
   "metadata": {},
   "source": [
    "Berdasarkan Boxplot diatas dapat diketahui bahwa nilai minimum dari kolom Ransum sekitar 1.45, nilai Q1 sekitar 1.98, nilai Q2 atau median sekitar 2.2, nilai Q3 sekitar 2.38, dan nilai maksimal sekitar 2.46. Boxplot ini juga menunjukan bahwa kolom Ransum tidak memiliki pencilan."
   ]
  },
  {
   "cell_type": "markdown",
   "metadata": {},
   "source": [
    "## 12. Kelas\n",
    "Kelas tidak tidak bisa di visualisasikan karena alasan seperti pada section 1"
   ]
  },
  {
   "cell_type": "markdown",
   "metadata": {},
   "source": [
    "# Section 3 - Normality Test\n",
    "Menentukan setiap kolom numerik berdistribusi normal atau tidak. Gunakan normality test\n",
    "yang dikaitkan dengan histogram plot."
   ]
  },
  {
   "cell_type": "markdown",
   "metadata": {},
   "source": [
    "### 1. Id\n",
    "Bukan numerik"
   ]
  },
  {
   "cell_type": "markdown",
   "metadata": {},
   "source": [
    "### 2. Daerah"
   ]
  },
  {
   "cell_type": "code",
   "execution_count": null,
   "metadata": {},
   "outputs": [],
   "source": [
    "k2, p = st.normaltest(Daerah)\n",
    "alpha = 0.05\n",
    "print(\"p = {:g}\".format(p))\n",
    "if p < alpha:  # null hypothesis: x comes from a normal distribution\n",
    "    print(\"H0 ditolak, sehingga data tidak terdistribusi dengan normal\")\n",
    "else:\n",
    "    print(\"H0 tidak bisa ditolak, sehingga data terdistribusi dengan normal\")\n",
    "\n",
    "mean,std=st.norm.fit(Daerah)\n",
    "plt.hist(Daerah, bins='auto', density=True)\n",
    "xmin, xmax = plt.xlim()\n",
    "x = np.linspace(xmin, xmax, 100)\n",
    "y = st.norm.pdf(x, mean, std)\n",
    "plt.plot(x, y,'k',lw=4)"
   ]
  },
  {
   "cell_type": "markdown",
   "metadata": {},
   "source": [
    "Berdasarkan histogram plotnya terlihat bahwa histogram dapat diasumsikan terdistribusi dengan normal karena bersifat No Skew. Tapi asumsi ini dapat dibantah karena berdasarkan Normality Test didapatkan kesimpulan data tidak terdistribusi dengan normal. Sehingga kesimpulannya data pada kolom Daerah tidak terdistribusi secara normal."
   ]
  },
  {
   "cell_type": "markdown",
   "metadata": {},
   "source": [
    "### 3. SumbuUtama"
   ]
  },
  {
   "cell_type": "code",
   "execution_count": null,
   "metadata": {
    "scrolled": true
   },
   "outputs": [],
   "source": [
    "k2, p = st.normaltest(SumbuUtama)\n",
    "alpha = 0.05\n",
    "print(\"p = {:g}\".format(p))\n",
    "if p < alpha:  # null hypothesis: x comes from a normal distribution\n",
    "    print(\"H0 ditolak, sehingga data tidak terdistribusi dengan normal\")\n",
    "else:\n",
    "    print(\"H0 tidak bisa ditolak, sehingga data terdistribusi dengan normal\")\n",
    "\n",
    "mean,std=st.norm.fit(SumbuUtama)\n",
    "plt.hist(SumbuUtama, bins='auto', density=True)\n",
    "xmin, xmax = plt.xlim()\n",
    "x = np.linspace(xmin, xmax, 100)\n",
    "y = st.norm.pdf(x, mean, std)\n",
    "plt.plot(x, y,'k',lw=4)"
   ]
  },
  {
   "cell_type": "markdown",
   "metadata": {},
   "source": [
    "Berdasarkan histogram plotnya terlihat bahwa histogram dapat diasumsikan tidak terdistribusi dengan normal karena histogram condong ke kanan (Positively Skewed). Asumsi ini diperkuat dengan hasil Normality Test yang menghasilkan kesimpulan bahwa data tidak terdistribusi dengan normal. Sehingga kesimpulannya data pada kolom SumbuUtama tidak terdistribusi secara normal."
   ]
  },
  {
   "cell_type": "markdown",
   "metadata": {},
   "source": [
    "### 4. SumbuKecil"
   ]
  },
  {
   "cell_type": "code",
   "execution_count": null,
   "metadata": {},
   "outputs": [],
   "source": [
    "k2, p = st.normaltest(SumbuKecil)\n",
    "alpha = 0.05\n",
    "print(\"p = {:g}\".format(p))\n",
    "if p < alpha:  # null hypothesis: x comes from a normal distribution\n",
    "    print(\"H0 ditolak, sehingga data tidak terdistribusi dengan normal\")\n",
    "else:\n",
    "    print(\"H0 tidak bisa ditolak, sehingga data terdistribusi dengan normal\")\n",
    "\n",
    "mean,std=st.norm.fit(SumbuKecil)\n",
    "plt.hist(SumbuKecil, bins='auto', density=True)\n",
    "xmin, xmax = plt.xlim()\n",
    "x = np.linspace(xmin, xmax, 100)\n",
    "y = st.norm.pdf(x, mean, std)\n",
    "plt.plot(x, y,'k',lw=4)"
   ]
  },
  {
   "cell_type": "markdown",
   "metadata": {},
   "source": [
    "Berdasarkan histogram plotnya terlihat bahwa histogram dapat diasumsikan terdistribusi dengan normal karena bersifat No Skew. Asumsi ini diperkuat dengan hasil Normality Test yang menghasilkan kesimpulan bahwa data terdistribusi dengan normal. Sehingga kesimpulannya data pada kolom SumbuKecil terdistribusi secara normal."
   ]
  },
  {
   "cell_type": "markdown",
   "metadata": {},
   "source": [
    "### 5. Keunikan"
   ]
  },
  {
   "cell_type": "code",
   "execution_count": null,
   "metadata": {},
   "outputs": [],
   "source": [
    "k2, p = st.normaltest(Keunikan)\n",
    "alpha = 0.05\n",
    "print(\"p = {:g}\".format(p))\n",
    "if p < alpha:  # null hypothesis: x comes from a normal distribution\n",
    "    print(\"H0 ditolak, sehingga data tidak terdistribusi dengan normal\")\n",
    "else:\n",
    "    print(\"H0 tidak bisa ditolak, sehingga data terdistribusi dengan normal\")\n",
    "\n",
    "mean,std=st.norm.fit(Keunikan)\n",
    "plt.hist(Keunikan, bins='auto', density=True)\n",
    "xmin, xmax = plt.xlim()\n",
    "x = np.linspace(xmin, xmax, 100)\n",
    "y = st.norm.pdf(x, mean, std)\n",
    "plt.plot(x, y,'k',lw=4)"
   ]
  },
  {
   "cell_type": "markdown",
   "metadata": {},
   "source": [
    "Berdasarkan histogram plotnya terlihat bahwa histogram dapat diasumsikan tidak terdistribusi dengan normal karena histogram condong ke kiri (Negatively Skewed). Asumsi ini diperkuat dengan hasil Normality Test yang menghasilkan kesimpulan bahwa data tidak terdistribusi dengan normal. Sehingga kesimpulannya data pada kolom Keunikan tidak terdistribusi secara normal."
   ]
  },
  {
   "cell_type": "markdown",
   "metadata": {},
   "source": [
    "### 6. AreaBulatan"
   ]
  },
  {
   "cell_type": "code",
   "execution_count": null,
   "metadata": {},
   "outputs": [],
   "source": [
    "k2, p = st.normaltest(AreaBulatan)\n",
    "alpha = 0.05\n",
    "print(\"p = {:g}\".format(p))\n",
    "if p < alpha:  # null hypothesis: x comes from a normal distribution\n",
    "    print(\"H0 ditolak, sehingga data tidak terdistribusi dengan normal\")\n",
    "else:\n",
    "    print(\"H0 tidak bisa ditolak, sehingga data terdistribusi dengan normal\")\n",
    "\n",
    "mean,std=st.norm.fit(AreaBulatan)\n",
    "plt.hist(AreaBulatan, bins='auto', density=True)\n",
    "xmin, xmax = plt.xlim()\n",
    "x = np.linspace(xmin, xmax, 100)\n",
    "y = st.norm.pdf(x, mean, std)\n",
    "plt.plot(x, y,'k',lw=4)"
   ]
  },
  {
   "cell_type": "markdown",
   "metadata": {},
   "source": [
    "Berdasarkan histogram plotnya terlihat bahwa histogram dapat diasumsikan terdistribusi dengan normal karena bersifat No Skew. Tapi asumsi ini dapat dibantah karena berdasarkan Normality Test didapatkan kesimpulan data tidak terdistribusi dengan normal. Sehingga kesimpulannya data pada kolom AreaBulatan tidak terdistribusi secara normal."
   ]
  },
  {
   "cell_type": "markdown",
   "metadata": {},
   "source": [
    "### 7. Diameter"
   ]
  },
  {
   "cell_type": "code",
   "execution_count": null,
   "metadata": {},
   "outputs": [],
   "source": [
    "k2, p = st.normaltest(Diameter)\n",
    "alpha = 0.05\n",
    "print(\"p = {:g}\".format(p))\n",
    "if p < alpha:  # null hypothesis: x comes from a normal distribution\n",
    "    print(\"H0 ditolak, sehingga data tidak terdistribusi dengan normal\")\n",
    "else:\n",
    "    print(\"H0 tidak bisa ditolak, sehingga data terdistribusi dengan normal\")\n",
    "\n",
    "mean,std=st.norm.fit(Diameter)\n",
    "plt.hist(Diameter, bins='auto', density=True)\n",
    "xmin, xmax = plt.xlim()\n",
    "x = np.linspace(xmin, xmax, 100)\n",
    "y = st.norm.pdf(x, mean, std)\n",
    "plt.plot(x, y,'k',lw=4)"
   ]
  },
  {
   "cell_type": "markdown",
   "metadata": {},
   "source": [
    "Berdasarkan histogram plotnya terlihat bahwa histogram dapat diasumsikan terdistribusi dengan normal karena bersifat No Skew. Tapi asumsi ini dapat dibantah karena berdasarkan Normality Test didapatkan kesimpulan data tidak terdistribusi dengan normal. Sehingga kesimpulannya data pada kolom Diameter tidak terdistribusi secara normal."
   ]
  },
  {
   "cell_type": "markdown",
   "metadata": {},
   "source": [
    "### 8. KadarAir"
   ]
  },
  {
   "cell_type": "code",
   "execution_count": null,
   "metadata": {},
   "outputs": [],
   "source": [
    "k2, p = st.normaltest(KadarAir)\n",
    "alpha = 0.05\n",
    "print(\"p = {:g}\".format(p))\n",
    "if p < alpha:  # null hypothesis: x comes from a normal distribution\n",
    "    print(\"H0 ditolak, sehingga data tidak terdistribusi dengan normal\")\n",
    "else:\n",
    "    print(\"H0 tidak bisa ditolak, sehingga data terdistribusi dengan normal\")\n",
    "\n",
    "mean,std=st.norm.fit(KadarAir)\n",
    "plt.hist(KadarAir, bins='auto', density=True)\n",
    "xmin, xmax = plt.xlim()\n",
    "x = np.linspace(xmin, xmax, 100)\n",
    "y = st.norm.pdf(x, mean, std)\n",
    "plt.plot(x, y,'k',lw=4)"
   ]
  },
  {
   "cell_type": "markdown",
   "metadata": {},
   "source": [
    "Berdasarkan histogram plotnya terlihat bahwa histogram dapat diasumsikan terdistribusi dengan normal karena bersifat No Skew walaupun mendekati condong ke kanan. Tapi asumsi ini dapat dibantah karena berdasarkan Normality Test didapatkan kesimpulan data tidak terdistribusi dengan normal. Sehingga kesimpulannya data pada kolom KadarAir tidak terdistribusi secara normal."
   ]
  },
  {
   "cell_type": "markdown",
   "metadata": {},
   "source": [
    "### 9. Keliling"
   ]
  },
  {
   "cell_type": "code",
   "execution_count": null,
   "metadata": {},
   "outputs": [],
   "source": [
    "k2, p = st.normaltest(Keliling)\n",
    "alpha = 0.05\n",
    "print(\"p = {:g}\".format(p))\n",
    "if p < alpha:  # null hypothesis: x comes from a normal distribution\n",
    "    print(\"H0 ditolak, sehingga data tidak terdistribusi dengan normal\")\n",
    "else:\n",
    "    print(\"H0 tidak bisa ditolak, sehingga data terdistribusi dengan normal\")\n",
    "\n",
    "mean,std=st.norm.fit(Keliling)\n",
    "plt.hist(Keliling, bins='auto', density=True)\n",
    "xmin, xmax = plt.xlim()\n",
    "x = np.linspace(xmin, xmax, 100)\n",
    "y = st.norm.pdf(x, mean, std)\n",
    "plt.plot(x, y,'k',lw=4)"
   ]
  },
  {
   "cell_type": "markdown",
   "metadata": {},
   "source": [
    "Berdasarkan histogram plotnya terlihat bahwa histogram dapat diasumsikan tidak terdistribusi dengan normal karena histogram condong ke kanan (Positively Skewed). Asumsi ini diperkuat dengan hasil Normality Test yang menghasilkan kesimpulan bahwa data tidak terdistribusi dengan normal. Sehingga kesimpulannya data pada kolom Keliling tidak terdistribusi secara normal."
   ]
  },
  {
   "cell_type": "markdown",
   "metadata": {},
   "source": [
    "### 10. Bulatan"
   ]
  },
  {
   "cell_type": "code",
   "execution_count": null,
   "metadata": {},
   "outputs": [],
   "source": [
    "k2, p = st.normaltest(Bulatan)\n",
    "alpha = 0.05\n",
    "print(\"p = {:g}\".format(p))\n",
    "if p < alpha:  # null hypothesis: x comes from a normal distribution\n",
    "    print(\"H0 ditolak, sehingga data tidak terdistribusi dengan normal\")\n",
    "else:\n",
    "    print(\"H0 tidak bisa ditolak, sehingga data terdistribusi dengan normal\")\n",
    "\n",
    "mean,std=st.norm.fit(Bulatan)\n",
    "plt.hist(Bulatan, bins='auto', density=True)\n",
    "xmin, xmax = plt.xlim()\n",
    "x = np.linspace(xmin, xmax, 100)\n",
    "y = st.norm.pdf(x, mean, std)\n",
    "plt.plot(x, y,'k',lw=4)"
   ]
  },
  {
   "cell_type": "markdown",
   "metadata": {},
   "source": [
    "Berdasarkan histogram plotnya terlihat bahwa histogram dapat diasumsikan tidak terdistribusi dengan normal karena histogram condong ke kiri (Negatively Skewed). Asumsi ini diperkuat dengan hasil Normality Test yang menghasilkan kesimpulan bahwa data tidak terdistribusi dengan normal. Sehingga kesimpulannya data pada kolom Bulatan tidak terdistribusi secara normal."
   ]
  },
  {
   "cell_type": "markdown",
   "metadata": {},
   "source": [
    "### 11. Ransum"
   ]
  },
  {
   "cell_type": "code",
   "execution_count": null,
   "metadata": {},
   "outputs": [],
   "source": [
    "k2, p = st.normaltest(Ransum)\n",
    "alpha = 0.05\n",
    "print(\"p = {:g}\".format(p))\n",
    "if p < alpha:  # null hypothesis: x comes from a normal distribution\n",
    "    print(\"H0 ditolak, sehingga data tidak terdistribusi dengan normal\")\n",
    "else:\n",
    "    print(\"H0 tidak bisa ditolak, sehingga data terdistribusi dengan normal\")\n",
    "\n",
    "mean,std=st.norm.fit(Ransum)\n",
    "plt.hist(Ransum, bins='auto', density=True)\n",
    "xmin, xmax = plt.xlim()\n",
    "x = np.linspace(xmin, xmax, 100)\n",
    "y = st.norm.pdf(x, mean, std)\n",
    "plt.plot(x, y,'k',lw=4)"
   ]
  },
  {
   "cell_type": "markdown",
   "metadata": {},
   "source": [
    "Berdasarkan histogram plotnya terlihat bahwa histogram dapat diasumsikan tidak terdistribusi dengan normal karena histogram condong ke kiri (Negatively Skewed). Asumsi ini diperkuat dengan hasil Normality Test yang menghasilkan kesimpulan bahwa data tidak terdistribusi dengan normal. Sehingga kesimpulannya data pada kolom Ransum tidak terdistribusi secara normal."
   ]
  },
  {
   "cell_type": "markdown",
   "metadata": {},
   "source": [
    "### 12. Kelas\n",
    "Tidak bisa dilakukan normality test dengan alasan yang sama seperti section 1"
   ]
  },
  {
   "cell_type": "markdown",
   "metadata": {},
   "source": [
    "# Section 4 - Tes Hipotesis 1 Sampel\n",
    "Melakukan test hipotesis 1 sampel, dengan menuliskan 6 langkah testing dan menampilkan juga boxplotnya untuk kolom/bagian yang bersesuaian. <br> <br>\n",
    "**Enam Langkah Testing:**\n",
    "1. Tentukan Hipotesis nol (H0: θ = θ0), dimana θ bisa berupa μ, σ2, p, atau data lain berdistribusi tertentu (normal, binomial, dsc.).\n",
    "2. Pilih hipotesis alternatif H1 salah dari dari θ > θ0 , θ < θ0 , atau θ ≠ θ0.\n",
    "3. Tentukan tingkat signifikan α.\n",
    "4. Tentukan uji statistik yang sesuai dan tentukan daerah kritis.\n",
    "5. Hitung nilai uji statistik dari data sample. Hitung p-value sesuai dengan uji statistik yang digunakan.\n",
    "6. Ambil keputusan dengan TOLAK H0 jika nilai uji terletak di daerah kritis atau dengan tes signifikan, TOLAK H0 jika p-value lebih kecil dibanding tingkat signifikansi α yang diinginkan"
   ]
  },
  {
   "cell_type": "code",
   "execution_count": null,
   "metadata": {},
   "outputs": [],
   "source": [
    "def Z_testStatistic(x̄,μ0,σ,root_n):\n",
    "    return (float)(x̄-μ0)/(σ/root_n)\n",
    "def Z_testStatistic_bigN(p̂,p0,q0,n):\n",
    "    return (float)(p̂-p0)/np.sqrt(p0*q0/n)\n",
    "def T_testStatistic(x̄,μ0,s,root_n):\n",
    "    return (float)(x̄-μ0)/(s/root_n)"
   ]
  },
  {
   "cell_type": "markdown",
   "metadata": {},
   "source": [
    "## A. Nilai rata-rata Daerah di atas 4700? (Checked)\n",
    "Asumsi sampel yang dicek sejumlah 500 dimana 500 data tersebut juga merupakan populasi (sampel yang dicek sekaligus populasi). Karena itu digunakan uji statistik distribusi Z untuk satu mean dengan standar deviasi populasi diketahui."
   ]
  },
  {
   "cell_type": "code",
   "execution_count": null,
   "metadata": {},
   "outputs": [],
   "source": [
    "print(\"Nilai rata-rata Daerah di atas 4700?\")\n",
    "\n",
    "# Langkah 1\n",
    "H0 = \"μ=4700\"\n",
    "print(\"1. H0 : {}\".format(H0))\n",
    "\n",
    "# Langkah 2\n",
    "H1 = \"μ>4700\"\n",
    "print(\"2. H1 : {}\".format(H1))\n",
    "\n",
    "# Langkah 3\n",
    "α = 5e-2\n",
    "print(\"3. α = {}\".format(α))\n",
    "\n",
    "# Langkah 4\n",
    "zα = round(st.norm.ppf(1-α),3)\n",
    "print(\"4. Uji Statistik : z=(x̄-μ0)/(σ/root_n), σ diketahui\")\n",
    "print(\"   Daerah Kritis : z>zα : z >{}\".format(zα))\n",
    "\n",
    "# Langkah 5\n",
    "x̄ = Daerah.mean()\n",
    "μ0= 4700\n",
    "σ = Daerah.std()\n",
    "root_n = np.sqrt(len(Daerah))\n",
    "z = round(Z_testStatistic(x̄,μ0,σ,root_n),3)\n",
    "p_value = 1-st.norm.cdf(z)\n",
    "print(\"5. Komputasi\")\n",
    "print(\"   x̄ : {} \\n   root_n: {} \\n   σ: {} \\n   μ0 : {}\".format(x̄,root_n,σ,μ0))\n",
    "print(\"   p_value : {} \\n   z: {}\".format(str(p_value),str(z)))\n",
    "\n",
    "# Langkah 6\n",
    "print(\"6. Test Daerah Kritis\")\n",
    "if (z > zα):\n",
    "    print(\"   Tolak H0 karena nilai uji = {}>{} (z>zα)\".format(str(z),str(zα)))\n",
    "    print(\"   Rata-Rata daerah di atas 4700\")\n",
    "else :\n",
    "    print(\"   Terima H0 karena nilai uji = {}<={} (z<=zα)\".format(str(z),str(zα)))\n",
    "    print(\"   Rata-Rata daerah sama dengan 4700\")\n",
    "\n",
    "# Menggambar Boxplot Daerah\n",
    "\n",
    "# Konfigurasi Boxplot\n",
    "plt.figure(figsize=(6,8))\n",
    "plt.grid()\n",
    "\n",
    "# Penggambaran Boxplot\n",
    "BoxPlotDaerah= sns.boxplot(data=Daerah)\n",
    "BoxPlotDaerah.set_title(\"BoxPlot Daerah\")"
   ]
  },
  {
   "cell_type": "markdown",
   "metadata": {},
   "source": [
    "## B. Nilai Rata-rata Sumbu Utama tidak sama dengan 116? (Checked)\n",
    "Asumsi sampel yang dicek sejumlah 500 dimana 500 data tersebut juga merupakan populasi (sampel yang dicek sekaligus populasi). Karena itu digunakan uji statistik distribusi Z untuk satu mean dengan standar deviasi populasi diketahui."
   ]
  },
  {
   "cell_type": "code",
   "execution_count": null,
   "metadata": {},
   "outputs": [],
   "source": [
    "print(\"Nilai Rata-rata Sumbu Utama tidak sama dengan 116?\")\n",
    "\n",
    "# Langkah 1\n",
    "H0 = \"μ=116\"\n",
    "print(\"1. H0 : {}\".format(H0))\n",
    "\n",
    "# Langkah 2\n",
    "H1 = \"μ≠116\"\n",
    "print(\"2. H1 : {}\".format(H1))\n",
    "\n",
    "# Langkah 3\n",
    "α = 5e-2\n",
    "print(\"3. α = {}\".format(α))\n",
    "\n",
    "# Langkah 4\n",
    "zα_div2 = round(st.norm.ppf(1-(α/2)),3)\n",
    "print(\"4. Uji Statistik : z=(x̄-μ0)/(σ/root_n), σ diketahui\")\n",
    "print(\"   Daerah Kritis : z>zα/2 atau z <-zα/2 : z>{} atau z<{}\".format(zα_div2,-1*zα_div2))\n",
    "\n",
    "# Langkah 5\n",
    "x̄ = SumbuUtama.mean()\n",
    "μ0= 116\n",
    "σ = SumbuUtama.std()\n",
    "n = len(SumbuUtama)\n",
    "root_n = np.sqrt(n)\n",
    "z = round(Z_testStatistic(x̄,μ0,σ,root_n),3)\n",
    "p_value = 1-abs(st.norm.cdf(z)-st.norm.cdf(-1*z))\n",
    "print(\"5. Komputasi\")\n",
    "print(\"   x̄ : {} \\n   n: {} \\n   root_n: {} \\n   σ: {} \\n   μ0 : {}\".format(x̄,n,root_n,σ,μ0))\n",
    "print(\"   p_value : {} \\n   z: {}\".format(str(p_value),str(z)))\n",
    "\n",
    "# Langkah 6\n",
    "print(\"6. Test Daerah Kritis\")\n",
    "if (z > zα_div2 or z < -1*zα_div2):\n",
    "    if (z > zα_div2):\n",
    "        print(\"   Tolak H0 karena nilai uji = {}>{} (z>zα/2)\".format(z,zα_div2))\n",
    "    else:\n",
    "        print(\"   Tolak H0 karena nilai uji = {}<{} (z<-zα/2)\".format(z,-1*zα_div2))\n",
    "    print(\"   Rata-rata Sumbu Utama tidak sama dengan 116\")\n",
    "else :\n",
    "    print(\"   Terima H0 karena nilai uji = {}<{}<{} (-zα/2<z<zα/2)\".format(-1*zα_div2,z,zα_div2))\n",
    "    print(\"   Rata-rata Sumbu Utama sama dengan 116\")\n",
    "    \n",
    "# Menggambar Boxplot SumbuUtama\n",
    "\n",
    "# Konfigurasi Boxplot\n",
    "plt.figure(figsize=(6,8))\n",
    "plt.grid()\n",
    "\n",
    "# Penggambaran Boxplot\n",
    "BoxPlotDaerah= sns.boxplot(data=SumbuUtama)\n",
    "BoxPlotDaerah.set_title(\"BoxPlot SumbuUtama\")"
   ]
  },
  {
   "cell_type": "markdown",
   "metadata": {},
   "source": [
    "## C. Nilai Rata-rata 20 baris pertama kolom Sumbu Kecil bukan 50?\n",
    "Asumsi sampel yang dicek adalah 20 baris pertama dari populasi yang sejumlah 500 baris. Karena itu digunakan uji statistik distribusi t untuk satu mean dengan standar deviasi populasi yang **dianggap tidak diketahui**."
   ]
  },
  {
   "cell_type": "code",
   "execution_count": null,
   "metadata": {},
   "outputs": [],
   "source": [
    "print(\"Nilai Rata-rata 20 baris pertama kolom Sumbu Kecil bukan 50?\")\n",
    "\n",
    "# Langkah 1\n",
    "H0 = \"μ=50\"\n",
    "print(\"1. H0 : {}\".format(H0))\n",
    "\n",
    "# Langkah 2\n",
    "H1 = \"μ≠50\"\n",
    "print(\"2. H1 : {}\".format(H1))\n",
    "\n",
    "# Langkah 3\n",
    "α = 5e-2\n",
    "print(\"3. α = {}\".format(α))\n",
    "\n",
    "# Langkah 4\n",
    "newSumbuKecil = SumbuKecil[:20]\n",
    "n = len(newSumbuKecil)\n",
    "v = n-1\n",
    "tα_div2 = round(st.t.ppf(1-(α/2),v),3)\n",
    "print(\"4. Uji Statistik : t=(x̄-μ0)/(s/root_n), σ tidak diketahui\")\n",
    "print(\"   Daerah Kritis : t>tα/2 atau t <-tα/2 : t>{} atau t<{}\".format(tα_div2,-1*tα_div2))\n",
    "\n",
    "# Langkah 5\n",
    "x̄ = newSumbuKecil.mean()\n",
    "μ0= 50\n",
    "s = newSumbuKecil.std()\n",
    "root_n = np.sqrt(n)\n",
    "t = round(T_testStatistic(x̄,μ0,s,root_n),3)\n",
    "p_value = 1-abs(st.t.cdf(t,v)-st.t.cdf(-1*t,v))\n",
    "print(\"5. Komputasi\")\n",
    "print(\"   x̄ : {} \\n   root_n: {} \\n   s: {} \\n   μ0 : {}\".format(x̄,root_n,s,μ0))\n",
    "print(\"   p_value : {} \\n   t: {}\".format(str(p_value),str(t)))\n",
    "\n",
    "# Langkah 6\n",
    "print(\"6. Test Daerah Kritis\")\n",
    "if (t > tα_div2 or t < -1*tα_div2):\n",
    "    if (z > zα_div2):\n",
    "        print(\"   Tolak H0 karena nilai uji = {}>{} (t>tα/2)\".format(t,tα_div2))\n",
    "    else:\n",
    "        print(\"   Tolak H0 karena nilai uji = {}<{} (t<-tα/2)\".format(t,-1*tα_div2))\n",
    "    print(\"   Nilai Rata-rata 20 baris pertama kolom Sumbu Kecil tidak sama dengan 50\")\n",
    "else :\n",
    "    print(\"   Terima H0 karena nilai uji = {}<{}<{} (-tα/2<t<tα/2)\".format(-1*tα_div2,t,tα_div2))\n",
    "    print(\"   Nilai Rata-rata 20 baris pertama kolom Sumbu Kecil sama dengan 50\")\n",
    "\n",
    "# Menggambar Boxplot SumbuKecil\n",
    "\n",
    "# Konfigurasi Boxplot\n",
    "plt.figure(figsize=(6,8))\n",
    "plt.grid()\n",
    "\n",
    "# Penggambaran Boxplot\n",
    "BoxPlotDaerah= sns.boxplot(data=newSumbuKecil)\n",
    "BoxPlotDaerah.set_title(\"BoxPlot newSumbuKecil\")"
   ]
  },
  {
   "cell_type": "markdown",
   "metadata": {},
   "source": [
    "## D. Proporsi nilai Diameter yang lebih dari 85, adalah tidak sama dengan 15% (Checked)\n",
    "Karena sDigunakan uji statistik berupa uji proporsi dengan n besar (binomial didekati normal)."
   ]
  },
  {
   "cell_type": "code",
   "execution_count": null,
   "metadata": {},
   "outputs": [],
   "source": [
    "print(\"Proporsi nilai Diameter yang lebih dari 85, adalah tidak sama dengan 15%\")\n",
    "# Langkah 1\n",
    "H0 = \"p=15\"\n",
    "print(\"1. H0 : {}\".format(H0))\n",
    "\n",
    "# Langkah 2\n",
    "H1 = \"p≠15\"\n",
    "print(\"2. H1 : {}\".format(H1))\n",
    "\n",
    "# Langkah 3\n",
    "α = 5e-2\n",
    "print(\"3. α = {}\".format(α))\n",
    "\n",
    "# Langkah 4\n",
    "\n",
    "zα_div2 = round(st.norm.ppf(1-(α/2)),3)\n",
    "print(\"4. Uji Statistik : z=(p̂-p0)/sqrt(p0*q0/n), σ diketahui\")\n",
    "print(\"   Daerah Kritis : z>zα/2 atau z <-zα/2 : z>{} atau z<{}\".format(zα_div2,zα_div2))\n",
    "\n",
    "# Langkah 5\n",
    "newDiameter = [dia for dia in Diameter if dia > 85]\n",
    "p̂ = len(newDiameter)/len(Diameter)\n",
    "p0 = 0.15\n",
    "q0 = 1-p0\n",
    "n = len(Diameter)\n",
    "z = round(Z_testStatistic_bigN(p̂,p0,q0,n),3)\n",
    "p_value = 1-abs(st.norm.cdf(z)-st.norm.cdf(-1*z))\n",
    "print(\"5. Komputasi\")\n",
    "print(\"   p̂ : {} \\n   p0: {} \\n   q0: {} \\n   n : {}\".format(p̂,p0,q0,n))\n",
    "print(\"   p_value : {} \\n   z: {}\".format(str(p_value),str(z)))\n",
    "\n",
    "# Langkah 6\n",
    "print(\"6. Test Daerah Kritis\")\n",
    "if (z > zα_div2 or z < -1*zα_div2):\n",
    "    if (z > zα_div2):\n",
    "        print(\"   Tolak H0 karena nilai uji = {}>{} (z>zα/2)\".format(z,zα_div2))\n",
    "    else:\n",
    "        print(\"   Tolak H0 karena nilai uji = {}<{} (z<-zα/2)\".format(z,-1*zα_div2))\n",
    "    print(\"   Proporsi nilai Diameter yang lebih dari 85 tidak sama dengan 15%\")\n",
    "else :\n",
    "    print(\"   Terima H0 karena nilai uji = {}<{}<{} (-zα/2<z<zα/2)\".format(-1*zα_div2,z,zα_div2))\n",
    "    print(\"   Proporsi nilai Diameter yang lebih dari 85 sama dengan 15%\")\n",
    "\n",
    "    \n",
    "# Menggambar Boxplot Diameter\n",
    "\n",
    "# Konfigurasi Boxplot\n",
    "plt.figure(figsize=(6,8))\n",
    "plt.grid()\n",
    "\n",
    "# Penggambaran Boxplot\n",
    "BoxPlotDaerah= sns.boxplot(data=Diameter)\n",
    "BoxPlotDaerah.set_title(\"BoxPlot Diameter\")"
   ]
  },
  {
   "cell_type": "markdown",
   "metadata": {},
   "source": [
    "## E.Proporsi nilai Keliling yang kurang dari 100, adalah kurang dari 5% (Checked)\n",
    "Digunakan uji statistik berupa uji proporsi dengan n besar (binomial didekati normal)."
   ]
  },
  {
   "cell_type": "code",
   "execution_count": null,
   "metadata": {},
   "outputs": [],
   "source": [
    "print(\"Proporsi nilai Keliling yang kurang dari 100, adalah kurang dari 5%\")\n",
    "\n",
    "# Langkah 1\n",
    "H0 = \"p=0.05\"\n",
    "print(\"1. H0 : {}\".format(H0))\n",
    "\n",
    "# Langkah 2\n",
    "H1 = \"p<0.05\"\n",
    "print(\"2. H1 : {}\".format(H1))\n",
    "\n",
    "# Langkah 3\n",
    "α = 5e-2\n",
    "print(\"3. α = {}\".format(α))\n",
    "\n",
    "# Langkah 4\n",
    "zα = round(st.norm.ppf(1-α),3)\n",
    "print(\"4. Uji Statistik : z=(p̂-p0)/sqrt(p0*q0/n), σ diketahui\")\n",
    "print(\"   Daerah Kritis : z <-zα : z<{}\".format(-1*zα))\n",
    "\n",
    "# Langkah 5\n",
    "newKel = [kel for kel in Keliling if kel < 100]\n",
    "p̂ = len(newKel)/len(Keliling)\n",
    "p0 = 0.05\n",
    "q0 = 1-p0\n",
    "n = len(Keliling)\n",
    "z = round(Z_testStatistic_bigN(p̂,p0,q0,n),3)\n",
    "p_value = st.norm.cdf(z)\n",
    "print(\"5. Komputasi\")\n",
    "print(\"   p̂ : {} \\n   p0: {} \\n   q0: {} \\n   n : {}\".format(p̂,p0,q0,n))\n",
    "print(\"   p_value : {} \\n   z: {}\".format(str(p_value),str(z)))\n",
    "\n",
    "# Langkah 6\n",
    "print(\"6. Test Daerah Kritis\")\n",
    "if (z < -1*zα):\n",
    "    print(\"   Tolak H0 karena nilai uji = {}<{} (z<-zα)\".format(str(z),str(-1*zα)))\n",
    "    print(\"   Proporsi nilai Keliling yang kurang dari 100, adalah kurang dari 5%\")\n",
    "else :\n",
    "    print(\"   Terima H0 karena nilai uji = {}>={} (z>=zα)\".format(str(z),str(zα)))\n",
    "    print(\"   Proporsi nilai Keliling yang kurang dari 100, adalah sama dengan 5%\")\n",
    "    \n",
    "# Menggambar Boxplot Keliling\n",
    "\n",
    "# Konfigurasi Boxplot\n",
    "plt.figure(figsize=(6,8))\n",
    "plt.grid()\n",
    "\n",
    "# Penggambaran Boxplot\n",
    "BoxPlotDaerah= sns.boxplot(data=Keliling)\n",
    "BoxPlotDaerah.set_title(\"BoxPlot Keliling\")"
   ]
  },
  {
   "cell_type": "markdown",
   "metadata": {},
   "source": [
    "# Section 5 - Tes Hipotesis Dua Sampel\n",
    "Melakukan test hipotesis 2 sampel, dengan menuliskan 6 langkah testing dan menampilkan\n",
    "juga boxplotnya untuk kolom/bagian yang bersesuaian."
   ]
  },
  {
   "cell_type": "code",
   "execution_count": null,
   "metadata": {},
   "outputs": [],
   "source": [
    "def Z_testStatistic_dual(x̄1,x̄2,d0,σ1_pow2,σ2_pow2,n1,n2):\n",
    "    return (float)((x̄1-x̄2)-d0)/np.sqrt(σ1_pow2/n1+σ2_pow2/n2)\n",
    "def Z_testStatistic_dualNormal(p̂1,p̂2,p̂,q̂,n1,n2):\n",
    "    return (float)(p̂1-p̂2)/np.sqrt(p̂*q̂*(1/n1+1/n2))\n",
    "def X_testStatistic(n,s,σ0):\n",
    "    return (float)((n-1)*(s**2))/σ0**2\n",
    "def X_testStatisticDual(s1,s2):\n",
    "    return (float)(s1**2/s2**2)\n",
    "def SP(n1,n2,s1_pow2,s2_pow2):\n",
    "    return (float)(np.sqrt(((n1-1)*s1_pow2+(n2-1)*s2_pow2)/(n1+n2-2)))\n",
    "def T_testStatistic_dual(x̄1,x̄2,d0,sp,n1,n2):\n",
    "    return (float)((x̄1-x̄2)-d0)/(sp*np.sqrt(1/n1+1/n2))"
   ]
  },
  {
   "cell_type": "markdown",
   "metadata": {},
   "source": [
    "## A. Data kolom AreaBulatan dibagi 2 sama rata: bagian awal dan bagian akhir kolom. Benarkah rata-rata kedua bagian tersebut sama? (Checked)\n",
    "Asumsi pembagian kolom AreaBulatan menjadi 2 akan menghasilkan dua sampel berbeda dengan tiap sampel berjumlah 250 baris dari populasi sejumlah 500 baris.  Karena itu digunakan uji statistik distribusi t untuk dua mean dengan standar deviasi populasi **dianggap sama namun tidak diketahui**."
   ]
  },
  {
   "cell_type": "code",
   "execution_count": null,
   "metadata": {},
   "outputs": [],
   "source": [
    "print(\"Data kolom AreaBulatan dibagi 2 sama rata: awal dan akhir kolom. Benarkah rata-rata kedua bagian tersebut sama?\")\n",
    "\n",
    "# Langkah 1\n",
    "H0 = \"μ1=μ2\"\n",
    "print(\"1. H0 : {}\".format(H0))\n",
    "\n",
    "# Langkah 2\n",
    "H1 = \"μ1≠μ2 -> μ1-μ2≠0\"\n",
    "print(\"2. H1 : {}\".format(H1))\n",
    "\n",
    "# Langkah 3\n",
    "α = 5e-2\n",
    "print(\"3. α = {}\".format(α))\n",
    "\n",
    "# Langkah 4\n",
    "d0 = 0\n",
    "AreaBulatan1 = AreaBulatan[:len(AreaBulatan)//2]\n",
    "x̄1 = AreaBulatan1.mean()\n",
    "s1 = AreaBulatan1.std()\n",
    "s1_pow2 = s1**2\n",
    "n1 = len(AreaBulatan1)\n",
    "AreaBulatan2 = AreaBulatan[len(AreaBulatan)//2:]\n",
    "AreaBulatan2.reset_index(inplace=True, drop=True)\n",
    "x̄2 = AreaBulatan2.mean()\n",
    "s2 = AreaBulatan2.std()\n",
    "s2_pow2 = s2**2\n",
    "n2 = len(AreaBulatan2)\n",
    "v = n1 + n2 -2\n",
    "tα_div2 = round(st.t.ppf(1-(α/2),v),3)\n",
    "print(\"4. Uji Statistik : t=((x̄1-x̄2)-d0)/(sp*sqrt(1/n1+1/n2)), σ1=σ2 tapi tidak diketahui\")\n",
    "print(\"   Daerah Kritis : t>tα/2 atau t<-tα/2 : t>{} atau t<{}\".format(tα_div2,-1*tα_div2))\n",
    "\n",
    "# Langkah 5\n",
    "sp = SP(n1,n2,s1_pow2,s2_pow2)\n",
    "t = round(T_testStatistic_dual(x̄1,x̄2,d0,sp,n1,n2),3)\n",
    "p_value = 1-abs(st.t.cdf(t,v)-st.t.cdf(-1*t,v))\n",
    "print(\"5. Komputasi\")\n",
    "print(\"   x̄1 : {} \\n   s1 : {} \\n   s1²: {} \\n   n1 : {} \\n   x̄2 : {} \\n   s2 : {} \\n   s2²: {} \\n   n2 : {}\".format(x̄1,s1,s1_pow2,n1,x̄2,s2,s2_pow2,n2))\n",
    "print(\"   sp : {} \\n   d0 : {} \\n   p_value : {} \\n   t: {}\".format(sp,d0,str(p_value),str(t)))\n",
    "\n",
    "# Langkah 6\n",
    "print(\"6. Test Daerah Kritis\")\n",
    "if (t > tα_div2 or t < -1*tα_div2):\n",
    "    if (t > tα_div2):\n",
    "        print(\"   Tolak H0 karena nilai uji = {}>{} (t>tα)\".format(t,tα_div2))\n",
    "    else:\n",
    "        print(\"   Tolak H0 karena nilai uji = {}<{} (t<tα)\".format(t,-1*tα_div2))\n",
    "    print(\"   Rata-rata kedua bagian Area Bulatan tidak sama\")\n",
    "else :\n",
    "    print(\"   Terima H0 karena nilai uji = {}<{}<{} (-tα<t<tα)\".format(-1*tα_div2,t,tα_div2))\n",
    "    print(\"   Rata-rata kedua bagian Area Bulatan sama\")  \n",
    "\n",
    "# Menggambar BoxPlot AreaBulatan1 dan AreaBulatan2\n",
    "\n",
    "# Merubah ke dalam bentuk dataframe\n",
    "dfAreaBulatan1 = pd.DataFrame(data=AreaBulatan1.tolist()).assign(AreaBulatanKe=1)\n",
    "dfAreaBulatan2 = pd.DataFrame(data=AreaBulatan2.tolist()).assign(AreaBulatanKe=2)\n",
    "\n",
    "# Mengkombinasikan dataframe\n",
    "combine = pd.concat([dfAreaBulatan1,dfAreaBulatan2],sort=False)  \n",
    "merge = pd.melt(combine, id_vars=['AreaBulatanKe'], var_name=['AreaBulatan'])\n",
    "\n",
    "# Konfigurasi Boxplot\n",
    "plt.figure(figsize=(6,8))\n",
    "plt.grid()\n",
    "# Penggambaran Boxplot Gabungan\n",
    "BoxPlotAreaBulatanm= sns.boxplot(x=\"AreaBulatan\",y=\"value\",hue=\"AreaBulatanKe\",data=merge)\n",
    "BoxPlotAreaBulatanm.set_title(\"BoxPlot AreaBulatan1 dan AreaBulatan2\")\n",
    "BoxPlotAreaBulatanm"
   ]
  },
  {
   "cell_type": "markdown",
   "metadata": {},
   "source": [
    "## B. Data kolom KadarAir dibagi 2 sama rata: bagian awal dan bagian akhir kolom. Benarkah rata-rata bagian awal lebih besar dari pada bagian akhir sebesar 0.2? (Checked)\n",
    "Asumsi pembagian kolom KadarAir menjadi 2 akan menghasilkan dua sampel berbeda dengan tiap sampel berjumlah 250 baris dari populasi sejumlah 500 baris.  Karena itu digunakan uji statistik distribusi t untuk dua mean dengan standar deviasi populasi **dianggap sama namun tidak diketahui**."
   ]
  },
  {
   "cell_type": "code",
   "execution_count": null,
   "metadata": {},
   "outputs": [],
   "source": [
    "print(\"Data kolom Kadar Air dibagi 2 sama rata: bagian awal dan bagian akhir kolom. Benarkah rata-rata bagian awal lebih besar dari pada bagian akhir sebesar 0.2?\")\n",
    "# Langkah 1\n",
    "H0 = \"μ1-μ2=0.2\"\n",
    "print(\"1. H0 : {}\".format(H0))\n",
    "\n",
    "# Langkah 2\n",
    "H1 = \"μ1-μ2<0.2\"\n",
    "print(\"2. H1 : {}\".format(H1))\n",
    "\n",
    "# Langkah 3\n",
    "α = 5e-2\n",
    "print(\"3. α = {}\".format(α))\n",
    "\n",
    "# Langkah 4\n",
    "d0 = 0.2\n",
    "KadarAir1 = KadarAir[:len(KadarAir)//2]\n",
    "x̄1 = KadarAir1.mean()\n",
    "s1 = KadarAir1.std()\n",
    "s1_pow2 = s1**2\n",
    "n1 = len(KadarAir1)\n",
    "KadarAir2 = KadarAir[len(KadarAir)//2:]\n",
    "KadarAir2.reset_index(inplace=True, drop=True)\n",
    "x̄2 = KadarAir2.mean()\n",
    "s2 = KadarAir2.std()\n",
    "s2_pow2 =s2**2\n",
    "n2 = len(KadarAir2)\n",
    "v = n1 + n2 - 2\n",
    "tα = round(st.t.ppf(1-α,v),3)\n",
    "print(\"4. Uji Statistik : t=((x̄1-x̄2)-d0)/(sp*sqrt(1/n1+1/n2)), σ1=σ2 tapi tidak diketahui\")\n",
    "print(\"   Daerah Kritis : t<-tα : t<{} \".format(-1*tα))\n",
    "\n",
    "# Langkah 5\n",
    "sp = SP(n1,n2,s1_pow2,s2_pow2)\n",
    "t = round(T_testStatistic_dual(x̄1,x̄2,d0,sp,n1,n2),3)\n",
    "p_value = st.t.cdf(t,v)\n",
    "print(\"5. Komputasi\")\n",
    "print(\"   x̄1 : {} \\n   s1: {} \\n   s1²: {} \\n   n1: {} \\n   x̄2: {} \\n   s2: {} \\n   s2²: {} \\n   n2: {}\".format(x̄1,s1,s1_pow2,n1,x̄2,s2,s2_pow2,n2))\n",
    "print(\"   sp : {} \\n   d0 : {} \\n   p_value : {} \\n   t: {}\".format(sp,d0,str(p_value),str(t)))\n",
    "\n",
    "# Langkah 6\n",
    "print(\"6. Test Daerah Kritis\")\n",
    "if (t < -1*tα):\n",
    "    print(\"   Tolak H0 karena nilai uji = {}<{} (t<-tα)\".format(str(t),str(-1*tα)))\n",
    "    print(\"   Selisih rata-rata bagian awal KadarAir dengan bagian akhir KadarAir sebesar kurang dari 0.2 \")\n",
    "else :\n",
    "    print(\"   Terima H0 karena nilai uji = {}<={} (t>=-tα)\".format(str(t),str(-1*tα)))\n",
    "    print(\"   Rata-rata bagian awal KadarAir lebih besar dari pada bagian akhir KadarAir sebesar 0.2\")  \n",
    "\n",
    "# Menggambar BoxPlot KadarAir1 dan KadarAir2\n",
    "\n",
    "# Merubah ke dalam bentuk dataframe\n",
    "dfKadarAir1 = pd.DataFrame(data=KadarAir1.tolist()).assign(KadarAirKe=1)\n",
    "dfKadarAir2 = pd.DataFrame(data=KadarAir2.tolist()).assign(KadarAirKe=2)\n",
    "\n",
    "# Mengkombinasikan dataframe\n",
    "combine = pd.concat([dfKadarAir1,dfKadarAir2],sort=False)  \n",
    "merge = pd.melt(combine, id_vars=['KadarAirKe'], var_name=['KadarAir'])\n",
    "\n",
    "# Konfigurasi Boxplot\n",
    "plt.figure(figsize=(10,8))\n",
    "plt.grid()\n",
    "\n",
    "# Penggambaran Boxplot Gabungan\n",
    "BoxPlotKadarAirm= sns.boxplot(x=\"KadarAir\",y=\"value\",hue=\"KadarAirKe\",data=merge)\n",
    "BoxPlotKadarAirm.set_title(\"BoxPlot KadarAir1 dan KadarAir2\")\n",
    "BoxPlotKadarAirm\n"
   ]
  },
  {
   "cell_type": "markdown",
   "metadata": {},
   "source": [
    "## C. Rata-rata 20 baris pertama kolom Bulatan sama dengan 20 baris terakhirnya? (Checked)\n",
    "Asumsi pembagian kolom Bulatan menjadi dua yaitu 20 baris pertama dan 20 baris terakhir akan menghasilkan dua sampel berbeda dari populasi yang sama sejumlah 500 baris.  Karena itu digunakan uji statistik distribusi t untuk dua mean dengan standar deviasi populasi **dianggap sama namun tidak diketahui**."
   ]
  },
  {
   "cell_type": "code",
   "execution_count": null,
   "metadata": {},
   "outputs": [],
   "source": [
    "print(\"Rata-rata 20 baris pertama kolom Bulatan sama dengan 20 baris terakhirnya?\")\n",
    "\n",
    "# Langkah 1\n",
    "H0 = \"μ1=μ2\"\n",
    "print(\"1. H0 : {}\".format(H0))\n",
    "\n",
    "# Langkah 2\n",
    "H1 = \"μ1≠μ2 -> μ1-μ2≠0\"\n",
    "print(\"2. H1 : {}\".format(H1))\n",
    "\n",
    "# Langkah 3\n",
    "α = 5e-2\n",
    "print(\"3. α = {}\".format(α))\n",
    "\n",
    "# Langkah 4\n",
    "d0 = 0\n",
    "Bulatan1 = Bulatan[:20]\n",
    "x̄1 = Bulatan1.mean()\n",
    "s1 = Bulatan1.std()\n",
    "s1_pow2 = s1**2\n",
    "n1 = len(Bulatan1)\n",
    "Bulatan2 = Bulatan[len(AreaBulatan)-20:]\n",
    "Bulatan2.reset_index(inplace=True, drop=True)\n",
    "x̄2 = Bulatan2.mean()\n",
    "s2 = Bulatan2.std()\n",
    "s2_pow2 = s2**2\n",
    "n2 = len(Bulatan2)\n",
    "v = n1 + n2 -2\n",
    "tα_div2 = round(st.t.ppf(1-(α/2),v),3)\n",
    "print(\"4. Uji Statistik : t=((x̄1-x̄2)-d0)/(sp*sqrt(1/n1+1/n2)), σ1=σ2 tapi tidak diketahui\")\n",
    "print(\"   Daerah Kritis : t>tα/2 atau t<-tα/2 : t>{} atau t<{}\".format(tα_div2,-1*tα_div2))\n",
    "\n",
    "# Langkah 5\n",
    "sp = SP(n1,n2,s1_pow2,s2_pow2)\n",
    "t = round(T_testStatistic_dual(x̄1,x̄2,d0,sp,n1,n2),3)\n",
    "p_value = 1-abs(st.t.cdf(t,v)-st.t.cdf(-1*t,v))\n",
    "print(\"5. Komputasi\")\n",
    "print(\"   x̄1 : {} \\n   s1 : {} \\n   s1²: {} \\n   n1 : {} \\n   x̄2 : {} \\n   s2 : {} \\n   s2²: {} \\n   n2 : {}\".format(x̄1,s1,s1_pow2,n1,x̄2,s2,s2_pow2,n2))\n",
    "print(\"   sp : {} \\n   p_value : {} \\n   t : {}\".format(sp,str(p_value),str(t)))\n",
    "\n",
    "# Langkah 6\n",
    "print(\"6. Test Daerah Kritis\")\n",
    "if (t > tα_div2 or z < -1*tα_div2):\n",
    "    if (t > tα_div2):\n",
    "        print(\"   Tolak H0 karena nilai uji = {}>{} (t>tα/2)\".format(t,tα_div2))\n",
    "    else:\n",
    "        print(\"   Tolak H0 karena nilai uji = {}<{} (t<-tα/2)\".format(t,-1*tα_div2))\n",
    "    print(\"   Rata-rata 20 baris pertama kolom Bulatan tidak sama dengan 20 baris terakhirnya\")\n",
    "else :\n",
    "    print(\"   Terima H0 karena nilai uji = {}<{}<{} (-tα/2<z<tα/2)\".format(-1*tα_div2,t,tα_div2))\n",
    "    print(\"   Rata-rata 20 baris pertama kolom Bulatan sama dengan 20 baris terakhirnya\")  \n",
    "\n",
    "\n",
    "# Menggambar BoxPlot Bulatan1 dan Bulatan2\n",
    "\n",
    "# Merubah ke dalam bentuk dataframe \n",
    "dfBulatan1 = pd.DataFrame(data=Bulatan1.tolist()).assign(BulatanKe=1)\n",
    "dfBulatan2 = pd.DataFrame(data=Bulatan2.tolist()).assign(BulatanKe=2)\n",
    "\n",
    "# Mengkombinasikan dataframe\n",
    "combine = pd.concat([dfBulatan1,dfBulatan2],sort=False)  \n",
    "merge = pd.melt(combine, id_vars=['BulatanKe'], var_name=['Bulatan'])\n",
    "\n",
    "# Konfigurasi Boxplot\n",
    "plt.figure(figsize=(10,8))\n",
    "plt.grid()\n",
    "\n",
    "# Penggambaran Boxplot Gabungan\n",
    "BoxPlotBulatanm= sns.boxplot(x=\"Bulatan\",y=\"value\",hue=\"BulatanKe\",data=merge)\n",
    "BoxPlotBulatanm.set_title(\"BoxPlot Bulatan1 dan Bulatan2\")\n",
    "BoxPlotBulatanm"
   ]
  },
  {
   "cell_type": "markdown",
   "metadata": {},
   "source": [
    "## D. Proporsi nilai bagian awal Ransum yang lebih dari 2, adalah lebih besar daripada, proporsi nilai yang sama di bagian akhir Ransum? (Checked)\n",
    "Digunakan tes dua proporsi"
   ]
  },
  {
   "cell_type": "code",
   "execution_count": null,
   "metadata": {},
   "outputs": [],
   "source": [
    "print(\"Proporsi bagian awal Ransum yang lebih dari 2 lebih besar daripada, proporsi nilai yang sama di bagian akhir Ransum\")\n",
    "# Langkah 1\n",
    "H0 = \"p1=p2 -> p1-p2=0\"\n",
    "print(\"1. H0 : {}\".format(H0))\n",
    "\n",
    "# Langkah 2\n",
    "H1 = \"p1>p2 -> p1-p2>0\"\n",
    "print(\"2. H1 : {}\".format(H1))\n",
    "\n",
    "# Langkah 3\n",
    "α = 5e-2\n",
    "print(\"3. α = {}\".format(α))\n",
    "\n",
    "# Langkah 4\n",
    "zα = round(st.norm.ppf(1-α),3)\n",
    "print(\"4. Uji Statistik : z=(p̂1-p̂2)/sqrt(p̂*q̂*(1/n1+1/n2)), σ diketahui\")\n",
    "print(\"   Daerah Kritis : z>zα : z>{}\".format(zα))\n",
    "\n",
    "# Langkah 5\n",
    "Ransum1 = Ransum[:len(Ransum)//2]\n",
    "Ransum1_moreThan2 = [ransum for ransum in Ransum1 if ransum >2]\n",
    "n1 = len(Ransum1)\n",
    "x1 = len(Ransum1_moreThan2)\n",
    "p̂1 = round(float(x1/n1),3)\n",
    "Ransum2 = Ransum[len(Ransum)//2:]\n",
    "Ransum2.reset_index(inplace=True, drop=True)\n",
    "Ransum2_moreThan2 = [ransum for ransum in Ransum2 if ransum >2]\n",
    "n2 = len(Ransum2)\n",
    "x2 = len(Ransum2_moreThan2)\n",
    "p̂2 = round(float(x2/n2),3)\n",
    "p̂ = round(float((x1+x2)/(n1+n2)),3)\n",
    "q̂ = 1-p̂\n",
    "z = round(Z_testStatistic_dualNormal(p̂1,p̂2,p̂,q̂,n1,n2),3)\n",
    "p_value = 1-st.norm.cdf(z)\n",
    "print(\"5. Komputasi\")\n",
    "print(\"   n1 : {} \\n   x1: {} \\n   p̂1: {} \\n   n2: {} \\n   x2: {} \\n   p̂2: {} \\n   p̂: {} \\n   q̂: {}\".format(n1,x1,p̂1,n2,x2,p̂2,p̂,q̂))\n",
    "print(\"   p_value : {} \\n   z: {}\".format(str(p_value),str(z)))\n",
    "\n",
    "# Langkah 6\n",
    "print(\"6. Test Daerah Kritis\")\n",
    "if (z > zα):\n",
    "    print(\"   Tolak H0 karena nilai uji = {}>{} (z>zα)\".format(str(z),str(zα)))\n",
    "    print(\"   Proporsi bagian awal Ransum yang lebih dari 2 lebih besar daripada proporsi nilai yang sama di bagian akhir Ransum\")\n",
    "else :\n",
    "    print(\"   Terima H0 karena nilai uji = {}<={} (z<=zα)\".format(str(z),str(zα)))\n",
    "    print(\"   Proporsi bagian awal Ransum yang lebih dari 2 kurang dari atau sama dengan proporsi nilai yang sama di bagian akhir Ransum\") \n",
    "\n",
    "# Menggambar BoxPlot Ransum1 dan Ransum2\n",
    "\n",
    "# Merubah ke dalam bentuk dataframe\n",
    "dfRansum1 = pd.DataFrame(data=Ransum1.tolist()).assign(RansumKe=1)\n",
    "dfRansum2 = pd.DataFrame(data=Ransum2.tolist()).assign(RansumKe=2)\n",
    "\n",
    "# Mengkombinasikan dataframe\n",
    "combine = pd.concat([dfRansum1,dfRansum2],sort=False)  \n",
    "merge = pd.melt(combine, id_vars=['RansumKe'], var_name=['Ransum'])\n",
    "\n",
    "# Konfigurasi Boxplot\n",
    "plt.figure(figsize=(10,8))\n",
    "plt.grid()\n",
    "\n",
    "# Penggambaran Boxplot Gabungan\n",
    "BoxPlotRansumm= sns.boxplot(x=\"Ransum\",y=\"value\",hue=\"RansumKe\",data=merge)\n",
    "BoxPlotRansumm.set_title(\"BoxPlot Ransum1 dan Ransum2\")\n",
    "BoxPlotRansumm"
   ]
  },
  {
   "cell_type": "markdown",
   "metadata": {},
   "source": [
    "## E. Bagian awal kolom Diameter memiliki variansi yang sama dengan bagian akhirnya? (Not Check)\n",
    "Digunakan tes variansi. Pada kasus ini digunakan alfa sebesar 0.01 agar alfa/2 yang didapatkan 0.005 dan ada di tabel di buku walpole."
   ]
  },
  {
   "cell_type": "code",
   "execution_count": null,
   "metadata": {},
   "outputs": [],
   "source": [
    "print(\"Rata-rata 20 baris pertama kolom Bulatan sama dengan 20 baris terakhirnya?\")\n",
    "# Langkah 1\n",
    "H0 = \"σ1²=σ2²\"\n",
    "print(\"1. H0 : {}\".format(H0))\n",
    "\n",
    "# Langkah 2\n",
    "H1 = \"σ1²≠σ2² -> σ1²-σ2²≠0\"\n",
    "print(\"2. H1 : {}\".format(H1))\n",
    "\n",
    "# Langkah 3\n",
    "α = 1e-1\n",
    "print(\"3. α = {}\".format(α))\n",
    "\n",
    "# Langkah 4\n",
    "Diameter1 = Diameter[:len(Diameter)//2]\n",
    "Diameter2 = Diameter[len(Diameter)//2:]\n",
    "Diameter2.reset_index(inplace=True, drop=True)\n",
    "n1 = len(Diameter1)\n",
    "n2 = len(Diameter2)\n",
    "v1 = n1-1\n",
    "v2 = n2-1\n",
    "fα_div2 = round(st.f.ppf(q=1-α/2, dfn=v1, dfd=v2),3)\n",
    "f1_min_αdiv2 = round((1.0/round(st.f.ppf(q=1-α/2, dfn=v2, dfd=v1),3)),3)\n",
    "print(\"4. Uji Statistik : z=((x̄1-x̄2)-d0)/np.sqrt(σ1²/n1+σ2²/n2), σ diketahui\")\n",
    "print(\"   Daerah Kritis : f>fα/2(v1,v2) atau f <f1-α/2(v1,v2) : f>{} atau f<{}\".format(fα_div2,f1_min_αdiv2))\n",
    "\n",
    "# Langkah 5\n",
    "s1 = Diameter1.std()\n",
    "s2 = Diameter2.std()\n",
    "f = round(X_testStatisticDual(s1,s2),3)\n",
    "\n",
    "print(\"5. Komputasi\")\n",
    "print(\"   n1 : {} \\n   σ²1: {} \\n   v1: {} \\n   n2: {} \\n   σ²2: {} \\n   v2: {}\".format(n1,s1**2,v1,n2,s2**2,v2))\n",
    "\n",
    "\n",
    "# # Langkah 6\n",
    "print(\"6. Test Daerah Kritis\")\n",
    "if (f > fα_div2 or f < f1_min_αdiv2):\n",
    "    if (f > fα_div2):\n",
    "        print(\"   Tolak H0 karena nilai uji = {}>{} (f > fα/2)\".format(f,fα_div2))\n",
    "    else:\n",
    "        print(\"   Tolak H0 karena nilai uji = {}<{} (f < f1-α/2)\".format(f,f1_min_αdiv2))\n",
    "    print(\"   Bagian awal kolom Diameter memiliki variansi yang tidak sama dengan bagian akhirnya\")\n",
    "else :\n",
    "    print(\"   Terima H0 karena nilai uji = {}<{}<{} (-zα<z<zα)\".format(f1_min_αdiv2,f,fα_div2))\n",
    "    print(\"   Bagian awal kolom Diameter memiliki variansi yang sama dengan bagian akhirnya\")  \n",
    "\n",
    "# Menggambar BoxPlot AreaBulatan1 dan AreaBulatan2\n",
    "\n",
    "# Merubah ke dalam bentuk dataframe\n",
    "dfDiameter1 = pd.DataFrame(data=Diameter1.tolist()).assign(DiameterKe=1)\n",
    "dfDiameter2 = pd.DataFrame(data=Diameter2.tolist()).assign(DiameterKe=2)\n",
    "\n",
    "# Mengkombinasikan dataframe\n",
    "combine = pd.concat([dfDiameter1,dfDiameter2],sort=False)  \n",
    "merge = pd.melt(combine, id_vars=['DiameterKe'], var_name=['Diameter'])\n",
    "\n",
    "# Konfigurasi Boxplot\n",
    "plt.figure(figsize=(10,8))\n",
    "plt.grid()\n",
    "\n",
    "# Penggambaran Boxplot Gabungan\n",
    "BoxPlotDiameterm= sns.boxplot(x=\"Diameter\",y=\"value\",hue=\"DiameterKe\",data=merge)\n",
    "BoxPlotDiameterm.set_title(\"BoxPlot Diameter1 dan Diameter2\")\n",
    "BoxPlotDiameterm"
   ]
  },
  {
   "cell_type": "markdown",
   "metadata": {},
   "source": [
    "# Section 6 - Tes Korelasi\n",
    "Mentukan apakah setiap kolom non-target berkorelasi dengan kolom target, dengan menggambarkan juga scatter plot nya. Tes korelasi menggunakan correlation test. <br> <br>\n",
    "Daftar kolom non-target adalah sebagai berikut :\n",
    "1. Daerah\n",
    "2. SumbuUtama\n",
    "3. SumbuKecil\n",
    "4. Keunikan\n",
    "5. AreaBulatan\n",
    "6. Diameter\n",
    "7. KadarAir\n",
    "8. Keliling\n",
    "9. Bulatan\n",
    "10. Ransum\n",
    "\n",
    "Sedangkan kolom target hanya kelas.\n",
    "\n",
    "\n",
    "Metode yang digunakan sebagai berikut :\n",
    "1. Melakukan tes korelasi dengan metode Pearson dengan alpha = 0.05\n",
    "    - H0 : p = 0 (Tidak ada korelasi diantara kolom non-target dengan kolom target)\n",
    "    - H1 : p ≠ 0 (Ada korelasi antara kolom non-target dan kolom target)\n",
    "\n",
    "\n",
    "2. Jika terdapat korelasi diantara kolom non-target dan kolom target maka cari berapa koefisien korelasi diantara kedua kolom tersebut. Beberapa kesimpulan yang dapat diambil sebagai berikut :\n",
    "    - Koefisien Korelasi = 1 (Strong Positive Correlation)\n",
    "    - 0 < Koefisien Korelasi < 1 (Positive Correlation)\n",
    "    - Koefisien Korelasi = 0 (No Correlation)\n",
    "    - -1 < Koefisien Korelasi < 0 (Negative Correlation)\n",
    "    - Koefisien Korelasi = -1 (Strong Negative Correlation)\n",
    "\n",
    "\n",
    "3. Tampilkan Scatter Plot diantara dua kolom tersebut"
   ]
  },
  {
   "cell_type": "code",
   "execution_count": null,
   "metadata": {},
   "outputs": [],
   "source": [
    "# Deklarasi dataframe kolom kelas dan nilai alpha\n",
    "\n",
    "Kelas = df[\"Kelas\"]\n",
    "alpha = 0.05"
   ]
  },
  {
   "cell_type": "markdown",
   "metadata": {},
   "source": [
    "### 1. Tes Korelasi Kolom Daerah dengan Kolom Kelas"
   ]
  },
  {
   "cell_type": "code",
   "execution_count": null,
   "metadata": {},
   "outputs": [],
   "source": [
    "# Tes Korelasi\n",
    "stat, p = st.pearsonr(Daerah, Kelas)\n",
    "if p < alpha:\n",
    "    print(\"H0 ditolak, sehingga ada korelasi antara kolom non-target dan kolom target\")\n",
    "else:\n",
    "    print(\"H0 tidak bisa ditolak, sehingga tidak ada korelasi antara kolom non-target dan kolom target\")"
   ]
  },
  {
   "cell_type": "code",
   "execution_count": null,
   "metadata": {},
   "outputs": [],
   "source": [
    "# Koefisien Korelasi\n",
    "Daerah.corr(Kelas, method='pearson')"
   ]
  },
  {
   "cell_type": "code",
   "execution_count": null,
   "metadata": {},
   "outputs": [],
   "source": [
    "# Scatter Plot\n",
    "df.plot(kind='scatter', x='Daerah', y='Kelas', yticks=[0.0, 1.0, 2.0, 3.0], color='red')"
   ]
  },
  {
   "cell_type": "markdown",
   "metadata": {},
   "source": [
    "#### Kesimpulan\n",
    "Terdapat korelasi diantara kolom Daerah (non-target) dan kolom Kelas (target) yaitu Negative Correlation. Sehingga nilai daerah yang lebih besar akan dikategorikan pada kelas yang lebih kecil atau sebaliknya. "
   ]
  },
  {
   "cell_type": "markdown",
   "metadata": {},
   "source": [
    "### 2. Tes Korelasi Kolom SumbuUtama dengan Kolom Kelas"
   ]
  },
  {
   "cell_type": "code",
   "execution_count": null,
   "metadata": {},
   "outputs": [],
   "source": [
    "# Tes Korelasi\n",
    "stat, p = st.pearsonr(SumbuUtama, Kelas)\n",
    "if p < alpha:\n",
    "    print(\"H0 ditolak, sehingga ada korelasi antara kolom non-target dan kolom target\")\n",
    "else:\n",
    "    print(\"H0 tidak bisa ditolak, sehingga tidak ada korelasi antara kolom non-target dan kolom target\")"
   ]
  },
  {
   "cell_type": "code",
   "execution_count": null,
   "metadata": {},
   "outputs": [],
   "source": [
    "# Koefisien Korelasi\n",
    "SumbuUtama.corr(Kelas, method='pearson')"
   ]
  },
  {
   "cell_type": "code",
   "execution_count": null,
   "metadata": {},
   "outputs": [],
   "source": [
    "# Scatter Plot\n",
    "df.plot(kind='scatter', x='SumbuUtama', y='Kelas', yticks=[0.0, 1.0, 2.0, 3.0], color='red')"
   ]
  },
  {
   "cell_type": "markdown",
   "metadata": {},
   "source": [
    "#### Kesimpulan\n",
    "Terdapat korelasi diantara kolom SumbuUtama (non-target) dan kolom Kelas (target) yaitu Negative Correlation. Sehingga nilai SumbuUtama yang lebih besar akan dikategorikan pada kelas yang lebih kecil atau sebaliknya. "
   ]
  },
  {
   "cell_type": "markdown",
   "metadata": {},
   "source": [
    "### 3. Tes Korelasi Kolom SumbuKecil dengan Kolom Kelas"
   ]
  },
  {
   "cell_type": "code",
   "execution_count": null,
   "metadata": {},
   "outputs": [],
   "source": [
    "# Tes Korelasi\n",
    "stat, p = st.pearsonr(SumbuKecil, Kelas)\n",
    "if p < alpha:\n",
    "    print(\"H0 ditolak, sehingga ada korelasi antara kolom non-target dan kolom target\")\n",
    "else:\n",
    "    print(\"H0 tidak bisa ditolak, sehingga tidak ada korelasi antara kolom non-target dan kolom target\")"
   ]
  },
  {
   "cell_type": "code",
   "execution_count": null,
   "metadata": {},
   "outputs": [],
   "source": [
    "# Koefisien Korelasi\n",
    "SumbuKecil.corr(Kelas, method='pearson')"
   ]
  },
  {
   "cell_type": "code",
   "execution_count": null,
   "metadata": {},
   "outputs": [],
   "source": [
    "# Scatter Plot\n",
    "df.plot(kind='scatter', x='SumbuKecil', y='Kelas', yticks=[0.0, 1.0, 2.0, 3.0], color='red')"
   ]
  },
  {
   "cell_type": "markdown",
   "metadata": {},
   "source": [
    "#### Kesimpulan\n",
    "Terdapat korelasi diantara kolom SumbuKecil (non-target) dan kolom Kelas (target) yaitu Negative Correlation. Sehingga nilai SumbuKecil yang lebih besar akan dikategorikan pada kelas yang lebih kecil atau sebaliknya. "
   ]
  },
  {
   "cell_type": "markdown",
   "metadata": {},
   "source": [
    "### 4. Tes Korelasi Kolom Keunikan dengan Kolom Kelas"
   ]
  },
  {
   "cell_type": "code",
   "execution_count": null,
   "metadata": {},
   "outputs": [],
   "source": [
    "# Tes Korelasi\n",
    "stat, p = st.pearsonr(Keunikan, Kelas)\n",
    "if p < alpha:\n",
    "    print(\"H0 ditolak, sehingga ada korelasi antara kolom non-target dan kolom target\")\n",
    "else:\n",
    "    print(\"H0 tidak bisa ditolak, sehingga tidak ada korelasi antara kolom non-target dan kolom target\")"
   ]
  },
  {
   "cell_type": "code",
   "execution_count": null,
   "metadata": {},
   "outputs": [],
   "source": [
    "# Koefisien Korelasi\n",
    "Keunikan.corr(Kelas, method='pearson')"
   ]
  },
  {
   "cell_type": "code",
   "execution_count": null,
   "metadata": {},
   "outputs": [],
   "source": [
    "# Scatter Plot\n",
    "df.plot(kind='scatter', x='Keunikan', y='Kelas', yticks=[0.0, 1.0, 2.0, 3.0], color='red')"
   ]
  },
  {
   "cell_type": "markdown",
   "metadata": {},
   "source": [
    "#### Kesimpulan\n",
    "Terdapat korelasi diantara kolom Keunikan (non-target) dan kolom Kelas (target) yaitu Negative Correlation. Sehingga nilai Keunikan yang lebih besar akan dikategorikan pada kelas yang lebih kecil atau sebaliknya. "
   ]
  },
  {
   "cell_type": "markdown",
   "metadata": {},
   "source": [
    "### 5. Tes Korelasi Kolom AreaBulatan dengan Kolom Kelas"
   ]
  },
  {
   "cell_type": "code",
   "execution_count": null,
   "metadata": {},
   "outputs": [],
   "source": [
    "# Tes Korelasi\n",
    "stat, p = st.pearsonr(AreaBulatan, Kelas)\n",
    "if p < alpha:\n",
    "    print(\"H0 ditolak, sehingga ada korelasi antara kolom non-target dan kolom target\")\n",
    "else:\n",
    "    print(\"H0 tidak bisa ditolak, sehingga tidak ada korelasi antara kolom non-target dan kolom target\")"
   ]
  },
  {
   "cell_type": "code",
   "execution_count": null,
   "metadata": {},
   "outputs": [],
   "source": [
    "# Koefisien Korelasi\n",
    "AreaBulatan.corr(Kelas, method='pearson')"
   ]
  },
  {
   "cell_type": "code",
   "execution_count": null,
   "metadata": {},
   "outputs": [],
   "source": [
    "# Scatter Plot\n",
    "df.plot(kind='scatter', x='AreaBulatan', y='Kelas', yticks=[0.0, 1.0, 2.0, 3.0], color='red')"
   ]
  },
  {
   "cell_type": "markdown",
   "metadata": {},
   "source": [
    "#### Kesimpulan\n",
    "Terdapat korelasi diantara kolom AreaBulatan (non-target) dan kolom Kelas (target) yaitu Negative Correlation. Sehingga nilai AreaBulatan yang lebih besar akan dikategorikan pada kelas yang lebih kecil atau sebaliknya. "
   ]
  },
  {
   "cell_type": "markdown",
   "metadata": {},
   "source": [
    "### 6. Tes Korelasi Kolom Diameter dengan Kolom Kelas"
   ]
  },
  {
   "cell_type": "code",
   "execution_count": null,
   "metadata": {},
   "outputs": [],
   "source": [
    "# Tes Korelasi\n",
    "stat, p = st.pearsonr(Diameter, Kelas)\n",
    "if p < alpha:\n",
    "    print(\"H0 ditolak, sehingga ada korelasi antara kolom non-target dan kolom target\")\n",
    "else:\n",
    "    print(\"H0 tidak bisa ditolak, sehingga tidak ada korelasi antara kolom non-target dan kolom target\")"
   ]
  },
  {
   "cell_type": "code",
   "execution_count": null,
   "metadata": {},
   "outputs": [],
   "source": [
    "# Koefisien Korelasi\n",
    "Diameter.corr(Kelas, method='pearson')"
   ]
  },
  {
   "cell_type": "code",
   "execution_count": null,
   "metadata": {},
   "outputs": [],
   "source": [
    "# Scatter Plot\n",
    "df.plot(kind='scatter', x='Diameter', y='Kelas', yticks=[0.0, 1.0, 2.0, 3.0], color='red')"
   ]
  },
  {
   "cell_type": "markdown",
   "metadata": {},
   "source": [
    "#### Kesimpulan\n",
    "Terdapat korelasi diantara kolom Diameter (non-target) dan kolom Kelas (target) yaitu Negative Correlation. Sehingga nilai Diameter yang lebih besar akan dikategorikan pada kelas yang lebih kecil atau sebaliknya. "
   ]
  },
  {
   "cell_type": "markdown",
   "metadata": {},
   "source": [
    "### 7. Tes Korelasi Kolom KadarAir dengan Kolom Kelas"
   ]
  },
  {
   "cell_type": "code",
   "execution_count": null,
   "metadata": {},
   "outputs": [],
   "source": [
    "# Tes Korelasi\n",
    "stat, p = st.pearsonr(KadarAir, Kelas)\n",
    "if p < alpha:\n",
    "    print(\"H0 ditolak, sehingga ada korelasi antara kolom non-target dan kolom target\")\n",
    "else:\n",
    "    print(\"H0 tidak bisa ditolak, sehingga tidak ada korelasi antara kolom non-target dan kolom target\")"
   ]
  },
  {
   "cell_type": "code",
   "execution_count": null,
   "metadata": {},
   "outputs": [],
   "source": [
    "# Koefisien Korelasi\n",
    "KadarAir.corr(Kelas, method='pearson')"
   ]
  },
  {
   "cell_type": "code",
   "execution_count": null,
   "metadata": {},
   "outputs": [],
   "source": [
    "# Scatter Plot\n",
    "df.plot(kind='scatter', x='KadarAir', y='Kelas',yticks=[0.0, 1.0, 2.0, 3.0], color='red')"
   ]
  },
  {
   "cell_type": "markdown",
   "metadata": {},
   "source": [
    "#### Kesimpulan\n",
    "Terdapat korelasi diantara kolom KadarAir (non-target) dan kolom Kelas (target) yaitu Positive Correlation. Sehingga nilai KadarAir yang lebih besar akan dikategorikan pada kelas yang lebih besar atau sebaliknya. "
   ]
  },
  {
   "cell_type": "markdown",
   "metadata": {},
   "source": [
    "### 8. Tes Korelasi Kolom Keliling dengan Kolom Kelas"
   ]
  },
  {
   "cell_type": "code",
   "execution_count": null,
   "metadata": {},
   "outputs": [],
   "source": [
    "# Tes Korelasi\n",
    "stat, p = st.pearsonr(Keliling, Kelas)\n",
    "if p < alpha:\n",
    "    print(\"H0 ditolak, sehingga ada korelasi antara kolom non-target dan kolom target\")\n",
    "else:\n",
    "    print(\"H0 tidak bisa ditolak, sehingga tidak ada korelasi antara kolom non-target dan kolom target\")"
   ]
  },
  {
   "cell_type": "code",
   "execution_count": null,
   "metadata": {},
   "outputs": [],
   "source": [
    "# Koefisien Korelasi\n",
    "Keliling.corr(Kelas, method='pearson')"
   ]
  },
  {
   "cell_type": "code",
   "execution_count": null,
   "metadata": {},
   "outputs": [],
   "source": [
    "# Scatter Plot\n",
    "df.plot(kind='scatter', x='Keliling', y='Kelas', color='red')"
   ]
  },
  {
   "cell_type": "markdown",
   "metadata": {},
   "source": [
    "#### Kesimpulan\n",
    "Terdapat korelasi diantara kolom Keliling (non-target) dan kolom Kelas (target) yaitu Negative Correlation. Sehingga nilai Keliling yang lebih besar akan dikategorikan pada kelas yang lebih kecil atau sebaliknya. "
   ]
  },
  {
   "cell_type": "markdown",
   "metadata": {},
   "source": [
    "### 9. Tes Korelasi Kolom Bulatan dengan Kolom Kelas"
   ]
  },
  {
   "cell_type": "code",
   "execution_count": null,
   "metadata": {},
   "outputs": [],
   "source": [
    "# Tes Korelasi\n",
    "stat, p = st.pearsonr(Bulatan, Kelas)\n",
    "if p < alpha:\n",
    "    print(\"H0 ditolak, sehingga ada korelasi antara kolom non-target dan kolom target\")\n",
    "else:\n",
    "    print(\"H0 tidak bisa ditolak, sehingga tidak ada korelasi antara kolom non-target dan kolom target\")"
   ]
  },
  {
   "cell_type": "code",
   "execution_count": null,
   "metadata": {},
   "outputs": [],
   "source": [
    "# Koefisien Korelasi\n",
    "Bulatan.corr(Kelas, method='pearson')"
   ]
  },
  {
   "cell_type": "code",
   "execution_count": null,
   "metadata": {},
   "outputs": [],
   "source": [
    "# Scatter Plot\n",
    "df.plot(kind='scatter', x='Bulatan', y='Kelas', color='red')"
   ]
  },
  {
   "cell_type": "markdown",
   "metadata": {},
   "source": [
    "#### Kesimpulan\n",
    "Terdapat korelasi diantara kolom Daerah (non-target) dan kolom Kelas (target) yaitu Positive Correlation. Sehingga nilai Bulatan yang lebih besar akan dikategorikan pada kelas yang lebih besar atau sebaliknya. "
   ]
  },
  {
   "cell_type": "markdown",
   "metadata": {},
   "source": [
    "### 10. Tes Korelasi Kolom Ransum dengan Kolom Kelas"
   ]
  },
  {
   "cell_type": "code",
   "execution_count": null,
   "metadata": {},
   "outputs": [],
   "source": [
    "# Tes Korelasi\n",
    "stat, p = st.pearsonr(Ransum, Kelas)\n",
    "if p < alpha:\n",
    "    print(\"H0 ditolak, sehingga ada korelasi antara kolom non-target dan kolom target\")\n",
    "else:\n",
    "    print(\"H0 tidak bisa ditolak, sehingga tidak ada korelasi antara kolom non-target dan kolom target\")"
   ]
  },
  {
   "cell_type": "code",
   "execution_count": null,
   "metadata": {},
   "outputs": [],
   "source": [
    "# Koefisien Korelasi\n",
    "Ransum.corr(Kelas, method='pearson')"
   ]
  },
  {
   "cell_type": "code",
   "execution_count": null,
   "metadata": {},
   "outputs": [],
   "source": [
    "# Scatter Plot\n",
    "df.plot(kind='scatter', x='Ransum', y='Kelas', yticks=[0.0, 1.0, 2.0, 3.0], color='red')"
   ]
  },
  {
   "cell_type": "markdown",
   "metadata": {},
   "source": [
    "#### Kesimpulan\n",
    "Terdapat korelasi diantara kolom Ransum (non-target) dan kolom Kelas (target) yaitu Negative Correlation. Sehingga nilai Ransum yang lebih besar akan dikategorikan pada kelas yang lebih kecil atau sebaliknya. "
   ]
  }
 ],
 "metadata": {
  "kernelspec": {
   "display_name": "Python 3",
   "language": "python",
   "name": "python3"
  },
  "language_info": {
   "codemirror_mode": {
    "name": "ipython",
    "version": 3
   },
   "file_extension": ".py",
   "mimetype": "text/x-python",
   "name": "python",
   "nbconvert_exporter": "python",
   "pygments_lexer": "ipython3",
   "version": "3.9.1"
  }
 },
 "nbformat": 4,
 "nbformat_minor": 2
}
