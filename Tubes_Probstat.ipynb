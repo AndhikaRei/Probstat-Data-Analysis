{
 "cells": [
  {
   "cell_type": "markdown",
   "metadata": {},
   "source": [
    "# Section 0 - Persiapan\n",
    "## Import Library\n",
    "Import library yang akan digunakan. Pandas digunakan untuk .... (ntar terusin)"
   ]
  },
  {
   "cell_type": "code",
   "execution_count": null,
   "metadata": {},
   "outputs": [],
   "source": [
    "import pandas as pd\n",
    "import numpy as np\n",
    "from scipy import stats as st\n",
    "import matplotlib.pyplot as plt\n",
    "import seaborn as sns\n",
    "import math\n",
    "%matplotlib inline"
   ]
  },
  {
   "cell_type": "markdown",
   "metadata": {},
   "source": [
    "## Pembacaan Data\n",
    "Pembacaan data dari file eksternal dan pemberian nama kolom."
   ]
  },
  {
   "cell_type": "code",
   "execution_count": null,
   "metadata": {},
   "outputs": [],
   "source": [
    "column = [\"id\",\"Daerah\",\"SumbuUtama\",\"SumbuKecil\",\"Keunikan\",\"AreaBulatan\",\"Diameter\",\n",
    "          \"KadarAir\",\"Keliling\",\"Bulatan\",\"Ransum\",\"Kelas\"]\n",
    "df = pd.read_csv('Gandum.csv',names = column)\n",
    "df"
   ]
  },
  {
   "cell_type": "markdown",
   "metadata": {},
   "source": [
    "# Section 1 - Descriptive Statistics\n",
    "Menulis deskripsi statistika (Descriptive Statistics) dari semua kolom pada data yang bersifat\n",
    "numerik, terdiri dari mean, median, modus, standar deviasi, variansi, range, nilai minimum,\n",
    "maksimum, kuartil, IQR, skewness dan kurtosis. Boleh juga ditambahkan deskripsi lain."
   ]
  },
  {
   "cell_type": "code",
   "execution_count": null,
   "metadata": {},
   "outputs": [],
   "source": [
    "# Prosedur untuk menulis deskripsi statistik dari suatu kolom di tabel\n",
    "def printStatistic(Column):\n",
    "    # Tulis statistik deskriptif dari kolom Column\n",
    "    print(\"count\\t\\t\\t: {}\".format(len(Column)))\n",
    "    print(\"mean\\t\\t\\t: {}\".format(Column.mean()))\n",
    "    print(\"median\\t\\t\\t: {}\".format(Column.median()))\n",
    "    print(\"modus\\t\\t\\t: {}\".format(', '.join(map(str, Column.mode()))))\n",
    "    print(\"standar deviasi\\t\\t: {}\".format(Column.std()))\n",
    "    print(\"variansi\\t\\t: {}\".format(Column.std()**2))\n",
    "    print(\"range\\t\\t\\t: {}\".format(Column.max()-Column.min()))\n",
    "    print(\"nilai minimum\\t\\t: {}\".format(Column.min()))\n",
    "    print(\"nilai maksimum\\t\\t: {}\".format(Column.max()))\n",
    "    quartiles = Column.quantile([0,0.25,0.5,0.75,1])\n",
    "    for i,quartile in enumerate(quartiles):\n",
    "        print(\"quartil-{}\\t\\t: {}\".format(i,quartile))\n",
    "    print(\"IQR\\t\\t\\t: {}\".format(quartiles[0.75]-quartiles[0.25]))\n",
    "    print(\"skewness\\t\\t: {}\".format(Column.skew()))\n",
    "    print(\"kurtosis\\t\\t: {}\".format(Column.kurt()))"
   ]
  },
  {
   "cell_type": "markdown",
   "metadata": {},
   "source": [
    "## 1. id\n",
    "Id tidak perlu ditulis deskripsi statistikanya karena id merepresentasikan identifier yang unik untuk tiap ransum."
   ]
  },
  {
   "cell_type": "markdown",
   "metadata": {},
   "source": [
    "## 2. Daerah"
   ]
  },
  {
   "cell_type": "code",
   "execution_count": null,
   "metadata": {},
   "outputs": [],
   "source": [
    "# Ambil kolom daerah\n",
    "Daerah = df[\"Daerah\"]\n",
    "# Tulis statistik deskriptif dari kolom daerah\n",
    "print(\"Statistik deskriptif kolom daerah\")\n",
    "printStatistic(Daerah)"
   ]
  },
  {
   "cell_type": "markdown",
   "metadata": {},
   "source": [
    "## 3. SumbuUtama"
   ]
  },
  {
   "cell_type": "code",
   "execution_count": null,
   "metadata": {},
   "outputs": [],
   "source": [
    "# Ambil kolom SumbuUtama\n",
    "SumbuUtama = df[\"SumbuUtama\"]\n",
    "# Tulis statistik deskriptif dari kolom SumbuUtama\n",
    "print(\"Statistik deskriptif kolom SumbuUtama\")\n",
    "printStatistic(SumbuUtama)"
   ]
  },
  {
   "cell_type": "markdown",
   "metadata": {},
   "source": [
    "## 4. SumbuKecil"
   ]
  },
  {
   "cell_type": "code",
   "execution_count": null,
   "metadata": {},
   "outputs": [],
   "source": [
    "# Ambil kolom SumbuKecil\n",
    "SumbuKecil = df[\"SumbuKecil\"]\n",
    "# Tulis statistik deskriptif dari kolom SumbuKecil\n",
    "print(\"Statistik deskriptif kolom SumbuKecil\")\n",
    "printStatistic(SumbuKecil)"
   ]
  },
  {
   "cell_type": "markdown",
   "metadata": {},
   "source": [
    "## 5. Keunikan"
   ]
  },
  {
   "cell_type": "code",
   "execution_count": null,
   "metadata": {},
   "outputs": [],
   "source": [
    "# Ambil kolom Keunikan\n",
    "Keunikan = df[\"Keunikan\"]\n",
    "# Tulis statistik deskriptif dari kolom Keunikan\n",
    "print(\"Statistik deskriptif kolom Keunikan\")\n",
    "printStatistic(Keunikan)"
   ]
  },
  {
   "cell_type": "markdown",
   "metadata": {},
   "source": [
    "## 6. AreaBulatan"
   ]
  },
  {
   "cell_type": "code",
   "execution_count": null,
   "metadata": {},
   "outputs": [],
   "source": [
    "# Ambil kolom AreaBulatan\n",
    "AreaBulatan = df[\"AreaBulatan\"]\n",
    "# Tulis statistik deskriptif dari kolom AreaBulatan\n",
    "print(\"Statistik deskriptif kolom AreaBulatan\")\n",
    "printStatistic(AreaBulatan)"
   ]
  },
  {
   "cell_type": "markdown",
   "metadata": {},
   "source": [
    "## 7. Diameter"
   ]
  },
  {
   "cell_type": "code",
   "execution_count": null,
   "metadata": {},
   "outputs": [],
   "source": [
    "# Ambil kolom Diameter\n",
    "Diameter = df[\"Diameter\"]\n",
    "# Tulis statistik deskriptif dari kolom Diameter\n",
    "print(\"Statistik deskriptif kolom Diameter\")\n",
    "printStatistic(Diameter)"
   ]
  },
  {
   "cell_type": "markdown",
   "metadata": {},
   "source": [
    "## 8. KadarAir"
   ]
  },
  {
   "cell_type": "code",
   "execution_count": null,
   "metadata": {},
   "outputs": [],
   "source": [
    "# Ambil kolom KadarAir\n",
    "KadarAir = df[\"KadarAir\"]\n",
    "# Tulis statistik deskriptif dari kolom KadarAir\n",
    "print(\"Statistik deskriptif kolom KadarAir\")\n",
    "printStatistic(KadarAir)"
   ]
  },
  {
   "cell_type": "markdown",
   "metadata": {},
   "source": [
    "## 9. Keliling"
   ]
  },
  {
   "cell_type": "code",
   "execution_count": null,
   "metadata": {},
   "outputs": [],
   "source": [
    "# Ambil kolom Keliling\n",
    "Keliling = df[\"Keliling\"]\n",
    "# Tulis statistik deskriptif dari kolom Keliling\n",
    "print(\"Statistik deskriptif kolom Keliling\")\n",
    "printStatistic(Keliling)"
   ]
  },
  {
   "cell_type": "markdown",
   "metadata": {},
   "source": [
    "## 10. Bulatan"
   ]
  },
  {
   "cell_type": "code",
   "execution_count": null,
   "metadata": {},
   "outputs": [],
   "source": [
    "# Ambil kolom Bulatan\n",
    "Bulatan = df[\"Bulatan\"]\n",
    "# Tulis statistik deskriptif dari kolom Bulatan\n",
    "print(\"Statistik deskriptif kolom Bulatan\")\n",
    "printStatistic(Bulatan)"
   ]
  },
  {
   "cell_type": "markdown",
   "metadata": {},
   "source": [
    "## 11. Ransum"
   ]
  },
  {
   "cell_type": "code",
   "execution_count": null,
   "metadata": {},
   "outputs": [],
   "source": [
    "# Ambil kolom Ransum\n",
    "Ransum = df[\"Ransum\"]\n",
    "# Tulis statistik deskriptif dari kolom Ransum\n",
    "print(\"Statistik deskriptif kolom Ransum\")\n",
    "printStatistic(Ransum)"
   ]
  },
  {
   "cell_type": "markdown",
   "metadata": {},
   "source": [
    "## 12. Kelas\n",
    "Id tidak perlu ditulis deskripsi statistikanya karena kelas merepresentasikan kelas dari suatu gandum dan tidak bisa dihitung statistik deskriptifnya."
   ]
  },
  {
   "cell_type": "markdown",
   "metadata": {},
   "source": [
    "# Section 2 - Data Visualization\n",
    "Membuat Visualisasi plot distribusi, dalam bentuk histogram dan boxplot untuk setiap\n",
    "kolom numerik. Berikan uraian penjelasan kondisi setiap kolom berdasarkan kedua plot\n",
    "tersebut."
   ]
  },
  {
   "cell_type": "markdown",
   "metadata": {},
   "source": [
    "## 1. id\n",
    "Id tidak tidak bisa di visualisasikan karena alasan seperti pada section 1"
   ]
  },
  {
   "cell_type": "markdown",
   "metadata": {},
   "source": [
    "## 2.Daerah\n",
    "Penjelasan kondisi yang bisa diambil dari gambar"
   ]
  },
  {
   "cell_type": "code",
   "execution_count": null,
   "metadata": {},
   "outputs": [],
   "source": [
    "# Konfigurasi Histogram\n",
    "plt.figure(figsize=(11,6))\n",
    "plt.grid()\n",
    "# Penggambaran Histogram\n",
    "HistDaerah =sns.histplot(Daerah, kde=True)\n",
    "HistDaerah.set_title(\"Histogram Daerah\")\n",
    "HistDaerah.set_ylabel(\"Frekuensi\")"
   ]
  },
  {
   "cell_type": "code",
   "execution_count": null,
   "metadata": {},
   "outputs": [],
   "source": [
    "# Konfigurasi Boxplot\n",
    "plt.figure(figsize=(6,8))\n",
    "plt.grid()\n",
    "# Penggambaran Boxplot\n",
    "BoxPlotDaerah= sns.boxplot(data=Daerah)\n",
    "BoxPlotDaerah.set_title(\"BoxPlot Daerah\")"
   ]
  },
  {
   "cell_type": "markdown",
   "metadata": {},
   "source": [
    "## 3.SumbuUtama\n",
    "Penjelasan ..."
   ]
  },
  {
   "cell_type": "code",
   "execution_count": null,
   "metadata": {},
   "outputs": [],
   "source": [
    "# Konfigurasi Histogram\n",
    "plt.figure(figsize=(11,6))\n",
    "plt.grid()\n",
    "# Penggambaran Histogram\n",
    "HistSumbuUtama =sns.histplot(SumbuUtama, kde=True)\n",
    "HistSumbuUtama.set_title(\"Histogram SumbuUtama\")\n",
    "HistSumbuUtama.set_ylabel(\"Frekuensi\")"
   ]
  },
  {
   "cell_type": "code",
   "execution_count": null,
   "metadata": {},
   "outputs": [],
   "source": [
    "# Konfigurasi Boxplot\n",
    "plt.figure(figsize=(6,8))\n",
    "plt.grid()\n",
    "# Penggambaran Boxplot\n",
    "BoxPlotSumbuUtama= sns.boxplot(data=SumbuUtama)\n",
    "BoxPlotSumbuUtama.set_title(\"BoxPlot SumbuUtama\")"
   ]
  },
  {
   "cell_type": "markdown",
   "metadata": {},
   "source": [
    "## 4. SumbuKecil\n",
    "penjelasan"
   ]
  },
  {
   "cell_type": "code",
   "execution_count": null,
   "metadata": {},
   "outputs": [],
   "source": [
    "# Konfigurasi Histogram\n",
    "plt.figure(figsize=(11,6))\n",
    "plt.grid()\n",
    "# Penggambaran Histogram\n",
    "HistSumbuKecil =sns.histplot(SumbuKecil, kde=True)\n",
    "HistSumbuKecil.set_title(\"Histogram SumbuKecil\")\n",
    "HistSumbuKecil.set_ylabel(\"Frekuensi\")"
   ]
  },
  {
   "cell_type": "code",
   "execution_count": null,
   "metadata": {},
   "outputs": [],
   "source": [
    "# Konfigurasi Boxplot\n",
    "plt.figure(figsize=(6,8))\n",
    "plt.grid()\n",
    "# Penggambaran Boxplot\n",
    "BoxPlotSumbuKecil= sns.boxplot(data=SumbuKecil)\n",
    "BoxPlotSumbuKecil.set_title(\"BoxPlot SumbuKecil\")"
   ]
  },
  {
   "cell_type": "markdown",
   "metadata": {},
   "source": [
    "## 5. Keunikan\n",
    "penjelasan"
   ]
  },
  {
   "cell_type": "code",
   "execution_count": null,
   "metadata": {},
   "outputs": [],
   "source": [
    "# Konfigurasi Histogram\n",
    "plt.figure(figsize=(11,6))\n",
    "plt.grid()\n",
    "# Penggambaran Histogram\n",
    "HistKeunikan =sns.histplot(Keunikan, kde=True)\n",
    "HistKeunikan.set_title(\"Histogram Keunikan\")\n",
    "HistKeunikan.set_ylabel(\"Frekuensi\")"
   ]
  },
  {
   "cell_type": "code",
   "execution_count": null,
   "metadata": {},
   "outputs": [],
   "source": [
    "# Konfigurasi Boxplot\n",
    "plt.figure(figsize=(6,8))\n",
    "plt.grid()\n",
    "# Penggambaran Boxplot\n",
    "BoxPlotKeunikan= sns.boxplot(data=Keunikan)\n",
    "BoxPlotKeunikan.set_title(\"BoxPlot Keunikan\")"
   ]
  },
  {
   "cell_type": "markdown",
   "metadata": {},
   "source": [
    "## 6. AreaBulatan\n",
    "Penjelasan"
   ]
  },
  {
   "cell_type": "code",
   "execution_count": null,
   "metadata": {},
   "outputs": [],
   "source": [
    "# Konfigurasi Histogram\n",
    "plt.figure(figsize=(11,6))\n",
    "plt.grid()\n",
    "# Penggambaran Histogram\n",
    "HistAreaBulatan =sns.histplot(AreaBulatan, kde=True)\n",
    "HistAreaBulatan.set_title(\"Histogram AreaBulatan\")\n",
    "HistAreaBulatan.set_ylabel(\"Frekuensi\")  "
   ]
  },
  {
   "cell_type": "code",
   "execution_count": null,
   "metadata": {},
   "outputs": [],
   "source": [
    "# Konfigurasi Boxplot\n",
    "plt.figure(figsize=(6,8))\n",
    "plt.grid()\n",
    "# Penggambaran Boxplot\n",
    "BoxPlotAreaBulatan= sns.boxplot(data=AreaBulatan)\n",
    "BoxPlotAreaBulatan.set_title(\"BoxPlot AreaBulatan\")"
   ]
  },
  {
   "cell_type": "markdown",
   "metadata": {},
   "source": [
    "## 7. Diameter\n",
    "Penjelasan"
   ]
  },
  {
   "cell_type": "code",
   "execution_count": null,
   "metadata": {},
   "outputs": [],
   "source": [
    "# Konfigurasi Histogram\n",
    "plt.figure(figsize=(11,6))\n",
    "plt.grid()\n",
    "# Penggambaran Histogram\n",
    "HistDiameter =sns.histplot(Diameter, kde=True)\n",
    "HistDiameter.set_title(\"Histogram Diameter\")\n",
    "HistDiameter.set_ylabel(\"Frekuensi\")"
   ]
  },
  {
   "cell_type": "code",
   "execution_count": null,
   "metadata": {},
   "outputs": [],
   "source": [
    "# Konfigurasi Boxplot\n",
    "plt.figure(figsize=(6,8))\n",
    "plt.grid()\n",
    "# Penggambaran Boxplot\n",
    "BoxPlotDiameter= sns.boxplot(data=Diameter)\n",
    "BoxPlotDiameter.set_title(\"BoxPlot Diameter\")"
   ]
  },
  {
   "cell_type": "markdown",
   "metadata": {},
   "source": [
    "## 8. Kadar Air\n",
    "Penjelasan"
   ]
  },
  {
   "cell_type": "code",
   "execution_count": null,
   "metadata": {},
   "outputs": [],
   "source": [
    "# Konfigurasi Histogram\n",
    "plt.figure(figsize=(11,6))\n",
    "plt.grid()\n",
    "# Penggambaran Histogram\n",
    "HistKadarAir =sns.histplot(KadarAir, kde=True)\n",
    "HistKadarAir.set_title(\"Histogram KadarAir\")\n",
    "HistKadarAir.set_ylabel(\"Frekuensi\")"
   ]
  },
  {
   "cell_type": "code",
   "execution_count": null,
   "metadata": {},
   "outputs": [],
   "source": [
    "# Konfigurasi Boxplot\n",
    "plt.figure(figsize=(6,8))\n",
    "plt.grid()\n",
    "# Penggambaran Boxplot\n",
    "BoxPlotKadarAir= sns.boxplot(data=KadarAir)\n",
    "BoxPlotKadarAir.set_title(\"BoxPlot KadarAir\")"
   ]
  },
  {
   "cell_type": "markdown",
   "metadata": {},
   "source": [
    "## 9. Keliling\n",
    "Penjelasan"
   ]
  },
  {
   "cell_type": "code",
   "execution_count": null,
   "metadata": {},
   "outputs": [],
   "source": [
    "# Konfigurasi Histogram\n",
    "plt.figure(figsize=(11,6))\n",
    "plt.grid()\n",
    "# Penggambaran Histogram\n",
    "HistKeliling =sns.histplot(Keliling, kde=True)\n",
    "HistKeliling.set_title(\"Histogram Keliling\")\n",
    "HistKeliling.set_ylabel(\"Frekuensi\")"
   ]
  },
  {
   "cell_type": "code",
   "execution_count": null,
   "metadata": {},
   "outputs": [],
   "source": [
    "# Konfigurasi Boxplot\n",
    "plt.figure(figsize=(6,8))\n",
    "plt.grid()\n",
    "# Penggambaran Boxplot\n",
    "BoxPlotKeliling= sns.boxplot(data=Keliling)\n",
    "BoxPlotKeliling.set_title(\"BoxPlot Keliling\")"
   ]
  },
  {
   "cell_type": "markdown",
   "metadata": {},
   "source": [
    "## 10. Bulatan\n",
    "Penjelasan"
   ]
  },
  {
   "cell_type": "code",
   "execution_count": null,
   "metadata": {},
   "outputs": [],
   "source": [
    "# Konfigurasi Histogram\n",
    "plt.figure(figsize=(11,6))\n",
    "plt.grid()\n",
    "# Penggambaran Histogram\n",
    "HistBulatan =sns.histplot(Bulatan, kde=True)\n",
    "HistBulatan.set_title(\"Histogram Bulatan\")\n",
    "HistBulatan.set_ylabel(\"Frekuensi\")"
   ]
  },
  {
   "cell_type": "code",
   "execution_count": null,
   "metadata": {},
   "outputs": [],
   "source": [
    "# Konfigurasi Boxplot\n",
    "plt.figure(figsize=(6,8))\n",
    "plt.grid()\n",
    "# Penggambaran Boxplot\n",
    "BoxPlotBulatan= sns.boxplot(data=Bulatan)\n",
    "BoxPlotBulatan.set_title(\"BoxPlot Bulatan\")"
   ]
  },
  {
   "cell_type": "markdown",
   "metadata": {},
   "source": [
    "## 11. Ransum\n",
    "Penjelasan"
   ]
  },
  {
   "cell_type": "code",
   "execution_count": null,
   "metadata": {},
   "outputs": [],
   "source": [
    "# Konfigurasi Histogram\n",
    "plt.figure(figsize=(11,6))\n",
    "plt.grid()\n",
    "# Penggambaran Histogram\n",
    "HistRansum =sns.histplot(Ransum, kde=True)\n",
    "HistRansum.set_title(\"Histogram Ransum\")\n",
    "HistRansum.set_ylabel(\"Frekuensi\")"
   ]
  },
  {
   "cell_type": "code",
   "execution_count": null,
   "metadata": {},
   "outputs": [],
   "source": [
    "# Konfigurasi Boxplot\n",
    "plt.figure(figsize=(6,8))\n",
    "plt.grid()\n",
    "# Penggambaran Boxplot\n",
    "BoxPlotRansum= sns.boxplot(data=Ransum)\n",
    "BoxPlotRansum.set_title(\"BoxPlot Ransum\")"
   ]
  },
  {
   "cell_type": "markdown",
   "metadata": {},
   "source": [
    "## 12. Kelas\n",
    "Kelas tidak tidak bisa di visualisasikan karena alasan seperti pada section 1"
   ]
  },
  {
   "cell_type": "markdown",
   "metadata": {},
   "source": [
    "# Section 3 - Normality Test\n",
    "Menentukan setiap kolom numerik berdistribusi normal atau tidak. Gunakan normality test\n",
    "yang dikaitkan dengan histogram plot."
   ]
  },
  {
   "cell_type": "code",
   "execution_count": null,
   "metadata": {},
   "outputs": [],
   "source": [
    "k2, p = st.normaltest(Ransum)\n",
    "alpha = 5e-3\n",
    "print(\"p = {:g}\".format(p))\n",
    "if p < alpha:  # null hypothesis: x comes from a normal distribution\n",
    "    print(\"The null hypothesis can be rejected\")\n",
    "else:\n",
    "    print(\"The null hypothesis cannot be rejected\")\n",
    "\n",
    "mean,std=st.norm.fit(Ransum)\n",
    "plt.hist(Ransum, bins='auto', density=True)\n",
    "xmin, xmax = plt.xlim()\n",
    "x = np.linspace(xmin, xmax, 100)\n",
    "y = st.norm.pdf(x, mean, std)\n",
    "plt.plot(x, y,'k',lw=4)"
   ]
  },
  {
   "cell_type": "markdown",
   "metadata": {},
   "source": [
    "# Section 4 - Tes Hipotesis 1 Sampel\n",
    "Melakukan test hipotesis 1 sampel, dengan menuliskan 6 langkah testing dan menampilkan juga boxplotnya untuk kolom/bagian yang bersesuaian. <br> <br>\n",
    "**Enam Langkah Testing:**\n",
    "1. Tentukan Hipotesis nol (H0: θ = θ0), dimana θ bisa berupa μ, σ2, p, atau data lain berdistribusi tertentu (normal, binomial, dsc.).\n",
    "2. Pilih hipotesis alternatif H1 salah dari dari θ > θ0 , θ < θ0 , atau θ ≠ θ0.\n",
    "3. Tentukan tingkat signifikan α.\n",
    "4. Tentukan uji statistik yang sesuai dan tentukan daerah kritis.\n",
    "5. Hitung nilai uji statistik dari data sample. Hitung p-value sesuai dengan uji statistik yang digunakan.\n",
    "6. Ambil keputusan dengan TOLAK H0 jika nilai uji terletak di daerah kritis atau dengan tes signifikan, TOLAK H0 jika p-value lebih kecil dibanding tingkat signifikansi α yang diinginkan"
   ]
  },
  {
   "cell_type": "code",
   "execution_count": null,
   "metadata": {},
   "outputs": [],
   "source": [
    "def Z_testStatistic(x̄,μ0,σ,root_n):\n",
    "    return (float)(x̄-μ0)/(σ/root_n)\n",
    "def Z_testStatistic_bigN(p̂,p0,q0,n):\n",
    "    return (float)(p̂-p0)/np.sqrt(p0*q0/n)"
   ]
  },
  {
   "cell_type": "markdown",
   "metadata": {},
   "source": [
    "## 1. Nilai rata-rata Daerah di atas 4700?"
   ]
  },
  {
   "cell_type": "code",
   "execution_count": null,
   "metadata": {},
   "outputs": [],
   "source": [
    "print(\"Nilai rata-rata Daerah di atas 4700?\")\n",
    "# Langkah 1\n",
    "H0 = \"μ=4700\"\n",
    "print(\"1. H0 : {}\".format(H0))\n",
    "\n",
    "# Langkah 2\n",
    "H1 = \"μ>4700\"\n",
    "print(\"2. H1 : {}\".format(H1))\n",
    "\n",
    "# Langkah 3\n",
    "α = 5e-2\n",
    "print(\"3. α = {}\".format(α))\n",
    "\n",
    "# Langkah 4\n",
    "zα = round(st.norm.ppf(1-α),3)\n",
    "print(\"4. Uji Statistik : z=(x̄-μ0)/(σ/root_n), σ diketahui\")\n",
    "print(\"   Daerah Kritis : z>zα : z >{}\".format(zα))\n",
    "\n",
    "# Langkah 5\n",
    "x̄ = Daerah.mean()\n",
    "μ0= 4700\n",
    "σ = Daerah.std()\n",
    "root_n = np.sqrt(len(Daerah))\n",
    "z = round(Z_testStatistic(x̄,μ0,σ,root_n),3)\n",
    "p_value = round(1-st.norm.cdf(z),3)\n",
    "print(\"5. Komputasi\")\n",
    "print(\"   x̄ : {} \\n   root_n: {} \\n   σ: {} \\n   μ0 : {}\".format(x̄,root_n,σ,μ0))\n",
    "print(\"   p_value : {} \\n   z: {}\".format(str(p_value),str(z)))\n",
    "\n",
    "# Langkah 6\n",
    "print(\"6. Test Daerah Kritis\")\n",
    "if (z > zα):\n",
    "    print(\"   Tolak H0 karena nilai uji = {}>{} (z>zα)\".format(str(z),str(zα)))\n",
    "    print(\"   Rata-Rata daerah di atas 4700\")\n",
    "else :\n",
    "    print(\"   Terima H0 karena nilai uji = {}<={} (z<=zα)\".format(str(z),str(zα)))\n",
    "    print(\"   Rata-Rata daerah sama dengan 4700\")\n",
    "    \n",
    "# Konfigurasi Boxplot\n",
    "plt.figure(figsize=(6,8))\n",
    "plt.grid()\n",
    "# Penggambaran Boxplot\n",
    "BoxPlotDaerah= sns.boxplot(data=Daerah)\n",
    "BoxPlotDaerah.set_title(\"BoxPlot Daerah\")"
   ]
  },
  {
   "cell_type": "markdown",
   "metadata": {},
   "source": [
    "## 2. Nilai Rata-rata Sumbu Utama tidak sama dengan 116?"
   ]
  },
  {
   "cell_type": "code",
   "execution_count": null,
   "metadata": {},
   "outputs": [],
   "source": [
    "print(\"Nilai Rata-rata Sumbu Utama tidak sama dengan 116?\")\n",
    "# Langkah 1\n",
    "H0 = \"μ=116\"\n",
    "print(\"1. H0 : {}\".format(H0))\n",
    "\n",
    "# Langkah 2\n",
    "H1 = \"μ≠116\"\n",
    "print(\"2. H1 : {}\".format(H1))\n",
    "\n",
    "# Langkah 3\n",
    "α = 5e-2\n",
    "print(\"3. α = {}\".format(α))\n",
    "\n",
    "# Langkah 4\n",
    "zα_div2 = round(st.norm.ppf(1-(α/2)),3)\n",
    "print(\"4. Uji Statistik : z=(x̄-μ0)/(σ/root_n), σ diketahui\")\n",
    "print(\"   Daerah Kritis : z>zα/2 atau z <-zα/2 : z>{} atau z<{}\".format(zα_div2,zα_div2))\n",
    "\n",
    "# Langkah 5\n",
    "x̄ = SumbuUtama.mean()\n",
    "μ0= 116\n",
    "σ = SumbuUtama.std()\n",
    "root_n = np.sqrt(len(SumbuUtama))\n",
    "z = round(Z_testStatistic(x̄,μ0,σ,root_n),3)\n",
    "p_value = round(1-st.norm.cdf(z),3)\n",
    "print(\"5. Komputasi\")\n",
    "print(\"   x̄ : {} \\n   root_n: {} \\n   σ: {} \\n   μ0 : {}\".format(x̄,root_n,σ,μ0))\n",
    "print(\"   p_value : {},{} \\n   z: {}\".format(str(p_value),str(1-p_value),str(z)))\n",
    "\n",
    "# Langkah 6\n",
    "print(\"6. Test Daerah Kritis\")\n",
    "if (z > zα_div2 or z < -1*zα_div2):\n",
    "    if (z > zα_div2):\n",
    "        print(\"   Tolak H0 karena nilai uji = {}>{} (z>zα)\".format(z,zα_div2))\n",
    "    else:\n",
    "        print(\"   Tolak H0 karena nilai uji = {}<{} (z<zα)\".format(z,-1*zα_div2))\n",
    "    print(\"   Rata-rata Sumbu Utama tidak sama dengan 116\")\n",
    "else :\n",
    "    print(\"   Terima H0 karena nilai uji = {}<{}<{} (-zα<z<zα)\".format(-1*zα_div2,z,zα_div2))\n",
    "    print(\"   Rata-rata Sumbu Utama sama dengan 116\")\n",
    "    \n",
    "# Konfigurasi Boxplot\n",
    "plt.figure(figsize=(6,8))\n",
    "plt.grid()\n",
    "# Penggambaran Boxplot\n",
    "BoxPlotDaerah= sns.boxplot(data=SumbuUtama)\n",
    "BoxPlotDaerah.set_title(\"BoxPlot SumbuUtama\")"
   ]
  },
  {
   "cell_type": "markdown",
   "metadata": {},
   "source": [
    "## 3. Nilai Rata-rata 20 baris pertama kolom Sumbu Kecil bukan 50?"
   ]
  },
  {
   "cell_type": "code",
   "execution_count": null,
   "metadata": {},
   "outputs": [],
   "source": [
    "print(\"Nilai Rata-rata 20 baris pertama kolom Sumbu Kecil bukan 50?\")\n",
    "# Langkah 1\n",
    "H0 = \"μ=50\"\n",
    "print(\"1. H0 : {}\".format(H0))\n",
    "\n",
    "# Langkah 2\n",
    "H1 = \"μ≠50\"\n",
    "print(\"2. H1 : {}\".format(H1))\n",
    "\n",
    "# Langkah 3\n",
    "α = 5e-2\n",
    "print(\"3. α = {}\".format(α))\n",
    "\n",
    "# Langkah 4\n",
    "zα_div2 = round(st.norm.ppf(1-(α/2)),3)\n",
    "print(\"4. Uji Statistik : z=(x̄-μ0)/(σ/root_n), σ diketahui\")\n",
    "print(\"   Daerah Kritis : z>zα/2 atau z <-zα/2 : z>{} atau z<{}\".format(zα_div2,zα_div2))\n",
    "\n",
    "# Langkah 5\n",
    "newSumbuKecil = SumbuKecil[:20]\n",
    "x̄ = newSumbuKecil.mean()\n",
    "μ0= 50\n",
    "σ = newSumbuKecil.std()\n",
    "root_n = np.sqrt(len(newSumbuKecil))\n",
    "z = round(Z_testStatistic(x̄,μ0,σ,root_n),3)\n",
    "p_value = round(1-st.norm.cdf(z),3)\n",
    "print(\"5. Komputasi\")\n",
    "print(\"   x̄ : {} \\n   root_n: {} \\n   σ: {} \\n   μ0 : {}\".format(x̄,root_n,σ,μ0))\n",
    "print(\"   p_value : {},{} \\n   z: {}\".format(str(p_value),str(1-p_value),str(z)))\n",
    "\n",
    "# Langkah 6\n",
    "print(\"6. Test Daerah Kritis\")\n",
    "if (z > zα_div2 or z < -1*zα_div2):\n",
    "    if (z > zα_div2):\n",
    "        print(\"   Tolak H0 karena nilai uji = {}>{} (z>zα)\".format(z,zα_div2))\n",
    "    else:\n",
    "        print(\"   Tolak H0 karena nilai uji = {}<{} (z<zα)\".format(z,-1*zα_div2))\n",
    "    print(\"   Nilai Rata-rata 20 baris pertama kolom Sumbu Kecil tidak sama dengan 50\")\n",
    "else :\n",
    "    print(\"   Terima H0 karena nilai uji = {}<{}<{} (-zα<z<zα)\".format(-1*zα_div2,z,zα_div2))\n",
    "    print(\"   Nilai Rata-rata 20 baris pertama kolom Sumbu Kecil sama dengan 50\")\n",
    "# Konfigurasi Boxplot\n",
    "plt.figure(figsize=(6,8))\n",
    "plt.grid()\n",
    "# Penggambaran Boxplot\n",
    "BoxPlotDaerah= sns.boxplot(data=newSumbuKecil)\n",
    "BoxPlotDaerah.set_title(\"BoxPlot newSumbuKecil\")"
   ]
  },
  {
   "cell_type": "markdown",
   "metadata": {},
   "source": [
    "## 4. Proporsi nilai Diameter yang lebih dari 85, adalah tidak sama dengan 15%"
   ]
  },
  {
   "cell_type": "code",
   "execution_count": null,
   "metadata": {},
   "outputs": [],
   "source": [
    "print(\"Proporsi nilai Diameter yang lebih dari 85, adalah tidak sama dengan 15%\")\n",
    "# Langkah 1\n",
    "H0 = \"p=15\"\n",
    "print(\"1. H0 : {}\".format(H0))\n",
    "\n",
    "# Langkah 2\n",
    "H1 = \"p≠15\"\n",
    "print(\"2. H1 : {}\".format(H1))\n",
    "\n",
    "# Langkah 3\n",
    "α = 5e-2\n",
    "print(\"3. α = {}\".format(α))\n",
    "\n",
    "# Langkah 4\n",
    "\n",
    "zα_div2 = round(st.norm.ppf(1-(α/2)),3)\n",
    "print(\"4. Uji Statistik : z=(p̂-p0)/np.sqrt(p0*q0/n), σ diketahui\")\n",
    "print(\"   Daerah Kritis : z>zα/2 atau z <-zα/2 : z>{} atau z<{}\".format(zα_div2,zα_div2))\n",
    "\n",
    "# Langkah 5\n",
    "newDiameter = [dia for dia in Diameter if dia > 85]\n",
    "p̂ = len(newDiameter)/len(Diameter)\n",
    "p0 = 0.15\n",
    "q0 = 1-p0\n",
    "n = len(newDiameter)\n",
    "z = round(Z_testStatistic_bigN(p̂,p0,q0,n),3)\n",
    "p_value = round(1-st.norm.cdf(z),3)\n",
    "print(\"5. Komputasi\")\n",
    "print(\"   p̂ : {} \\n   p0: {} \\n   q0: {} \\n   n : {}\".format(p̂,p0,q0,n))\n",
    "print(\"   p_value : {},{} \\n   z: {}\".format(str(p_value),str(1-p_value),str(z)))\n",
    "\n",
    "# Langkah 6\n",
    "print(\"6. Test Daerah Kritis\")\n",
    "if (z > zα_div2 or z < -1*zα_div2):\n",
    "    if (z > zα_div2):\n",
    "        print(\"   Tolak H0 karena nilai uji = {}>{} (z>zα)\".format(z,zα_div2))\n",
    "    else:\n",
    "        print(\"   Tolak H0 karena nilai uji = {}<{} (z<zα)\".format(z,-1*zα_div2))\n",
    "    print(\"   Proporsi nilai Diameter yang lebih dari 85 tidak sama dengan 15%\")\n",
    "else :\n",
    "    print(\"   Terima H0 karena nilai uji = {}<{}<{} (-zα<z<zα)\".format(-1*zα_div2,z,zα_div2))\n",
    "    print(\"   Proporsi nilai Diameter yang lebih dari 85 sama dengan 15%\")\n",
    "# Konfigurasi Boxplot\n",
    "plt.figure(figsize=(6,8))\n",
    "plt.grid()\n",
    "# Penggambaran Boxplot\n",
    "BoxPlotDaerah= sns.boxplot(data=Diameter)\n",
    "BoxPlotDaerah.set_title(\"BoxPlot Diameter\")"
   ]
  },
  {
   "cell_type": "markdown",
   "metadata": {},
   "source": [
    "## 5.Proporsi nilai Keliling yang kurang dari 100, adalah kurang dari 5%"
   ]
  },
  {
   "cell_type": "code",
   "execution_count": null,
   "metadata": {},
   "outputs": [],
   "source": [
    "print(\"Proporsi nilai Keliling yang kurang dari 100, adalah kurang dari 5%\")\n",
    "# Langkah 1\n",
    "H0 = \"p=5\"\n",
    "print(\"1. H0 : {}\".format(H0))\n",
    "\n",
    "# Langkah 2\n",
    "H1 = \"p<5\"\n",
    "print(\"2. H1 : {}\".format(H1))\n",
    "\n",
    "# Langkah 3\n",
    "α = 5e-2\n",
    "print(\"3. α = {}\".format(α))\n",
    "\n",
    "# Langkah 4\n",
    "\n",
    "zα = round(st.norm.ppf(1-α),3)\n",
    "print(\"4. Uji Statistik : z=(p̂-p0)/np.sqrt(p0*q0/n), σ diketahui\")\n",
    "print(\"   Daerah Kritis : z <-zα : z<{}\".format(zα))\n",
    "\n",
    "# Langkah 5\n",
    "newKel = [kel for kel in Keliling if kel < 100]\n",
    "p̂ = len(newKel)/len(Keliling)\n",
    "p0 = 0.05\n",
    "q0 = 1-p0\n",
    "n = len(newKel)\n",
    "try:\n",
    "    z = round(Z_testStatistic_bigN(p̂,p0,q0,n),3)\n",
    "    p_value = round(1-st.norm.cdf(z),3)\n",
    "except :\n",
    "    z = math.inf\n",
    "    p_value = 1\n",
    "print(\"5. Komputasi\")\n",
    "print(\"   p̂ : {} \\n   p0: {} \\n   q0: {} \\n   n : {}\".format(p̂,p0,q0,n))\n",
    "print(\"   p_value : {} \\n   z: {}\".format(str(p_value),str(z)))\n",
    "\n",
    "# Langkah 6\n",
    "print(\"6. Test Daerah Kritis\")\n",
    "if (z < -1*zα):\n",
    "    print(\"   Tolak H0 karena nilai uji = {}<{} (z<zα)\".format(str(z),str(zα)))\n",
    "    print(\"   Proporsi nilai Diameter yang lebih dari 85 tidak sama dengan 15%\")\n",
    "else :\n",
    "    print(\"   Terima H0 karena nilai uji = {}>={} (z>=zα)\".format(str(z),str(zα)))\n",
    "    print(\"   Proporsi nilai Diameter yang lebih dari 85 sama dengan 15%\")\n",
    "    \n",
    "# Konfigurasi Boxplot\n",
    "plt.figure(figsize=(6,8))\n",
    "plt.grid()\n",
    "# Penggambaran Boxplot\n",
    "BoxPlotDaerah= sns.boxplot(data=Keliling)\n",
    "BoxPlotDaerah.set_title(\"BoxPlot Keliling\")"
   ]
  },
  {
   "cell_type": "markdown",
   "metadata": {},
   "source": [
    "# Section 5 - Tes Hipotesis Dua Sampel\n",
    "Melakukan test hipotesis 2 sampel, dengan menuliskan 6 langkah testing dan menampilkan\n",
    "juga boxplotnya untuk kolom/bagian yang bersesuaian."
   ]
  },
  {
   "cell_type": "code",
   "execution_count": null,
   "metadata": {},
   "outputs": [],
   "source": [
    "def Z_testStatistic_dual(x̄1,x̄2,d0,σ1_pow2,σ2_pow2,n1,n2):\n",
    "    return (float)((x̄1-x̄2)-d0)/np.sqrt(σ1_pow2/n1+σ2_pow2/n2)\n",
    "def Z_testStatistic_dualNormal(p̂1,p̂2,p̂,q̂,n1,n2):\n",
    "    return (float)(p̂1-p̂2)/np.sqrt(p̂*q̂*(1/n1+1/n2))\n",
    "def X_testStatistic(n,s,σ0):\n",
    "    return (float)((n-1)*(s**2))/σ0**2\n",
    "def X_testStatisticDual(s1,s2):\n",
    "    return (float)(s1**2/s2**2)"
   ]
  },
  {
   "cell_type": "markdown",
   "metadata": {},
   "source": [
    "## 1. Data kolom AreaBulatan dibagi 2 sama rata: bagian awal dan bagian akhir kolom. Benarkah rata-rata kedua bagian tersebut sama?"
   ]
  },
  {
   "cell_type": "code",
   "execution_count": null,
   "metadata": {},
   "outputs": [],
   "source": [
    "print(\"Data kolom AreaBulatan dibagi 2 sama rata: bagian awal dan bagian akhir kolom. Benarkah rata-rata kedua bagian tersebut sama?\")\n",
    "# Langkah 1\n",
    "H0 = \"μ1=μ2\"\n",
    "print(\"1. H0 : {}\".format(H0))\n",
    "\n",
    "# Langkah 2\n",
    "H1 = \"μ1≠μ2 -> μ1-μ2≠0\"\n",
    "print(\"2. H1 : {}\".format(H1))\n",
    "\n",
    "# Langkah 3\n",
    "α = 5e-2\n",
    "print(\"3. α = {}\".format(α))\n",
    "\n",
    "# Langkah 4\n",
    "zα_div2 = round(st.norm.ppf(1-(α/2)),3)\n",
    "print(\"4. Uji Statistik : z=((x̄1-x̄2)-d0)/sqrt(σ1²/n1+σ2²/n2), σ diketahui\")\n",
    "print(\"   Daerah Kritis : z>zα/2 atau z <-zα/2 : z>{} atau z<{}\".format(zα_div2,zα_div2))\n",
    "\n",
    "# Langkah 5\n",
    "d0 = 0\n",
    "AreaBulatan1 = AreaBulatan[:len(AreaBulatan)//2]\n",
    "x̄1 = AreaBulatan1.mean()\n",
    "σ1_pow2 = AreaBulatan1.std()**2\n",
    "n1 = len(AreaBulatan1)\n",
    "AreaBulatan2 = AreaBulatan[len(AreaBulatan)//2:]\n",
    "AreaBulatan2.reset_index(inplace=True, drop=True)\n",
    "x̄2 = AreaBulatan2.mean()\n",
    "σ2_pow2 = AreaBulatan2.std()**2\n",
    "n2 = len(AreaBulatan2)\n",
    "z = round(Z_testStatistic_dual(x̄1,x̄2,d0,σ1_pow2,σ2_pow2,n1,n2),3)\n",
    "p_value = round(1-st.norm.cdf(z),3)\n",
    "print(\"5. Komputasi\")\n",
    "print(\"   x̄1 : {} \\n   σ1²: {} \\n   n1: {} \\n   x̄2: {} \\n   σ2²: {} \\n   n2: {}\".format(x̄1,σ1_pow2,n1,x̄2,σ2_pow2,n2))\n",
    "print(\"   p_value : {},{} \\n   z: {}\".format(str(p_value),str(1-p_value),str(z)))\n",
    "\n",
    "# Langkah 6\n",
    "print(\"6. Test Daerah Kritis\")\n",
    "if (z > zα_div2 or z < -1*zα_div2):\n",
    "    if (z > zα_div2):\n",
    "        print(\"   Tolak H0 karena nilai uji = {}>{} (z>zα)\".format(z,zα_div2))\n",
    "    else:\n",
    "        print(\"   Tolak H0 karena nilai uji = {}<{} (z<zα)\".format(z,-1*zα_div2))\n",
    "    print(\"   Rata-rata kedua bagian Area Bulatan tidak sama\")\n",
    "else :\n",
    "    print(\"   Terima H0 karena nilai uji = {}<{}<{} (-zα<z<zα)\".format(-1*zα_div2,z,zα_div2))\n",
    "    print(\"   Rata-rata kedua bagian Area Bulatan sama\")  "
   ]
  },
  {
   "cell_type": "code",
   "execution_count": null,
   "metadata": {},
   "outputs": [],
   "source": [
    "dfAreaBulatan1 = pd.DataFrame(data=AreaBulatan1.tolist()).assign(AreaBulatanKe=1)\n",
    "dfAreaBulatan2 = pd.DataFrame(data=AreaBulatan2.tolist()).assign(AreaBulatanKe=2)\n",
    "\n",
    "combine = pd.concat([dfAreaBulatan1,dfAreaBulatan2],sort=False)  \n",
    "merge = pd.melt(combine, id_vars=['AreaBulatanKe'], var_name=['AreaBulatan'])\n",
    "merge\n",
    "\n",
    "# Konfigurasi Boxplot\n",
    "plt.figure(figsize=(6,8))\n",
    "plt.grid()\n",
    "# Penggambaran Boxplot Gabungan\n",
    "BoxPlotAreaBulatanm= sns.boxplot(x=\"AreaBulatan\",y=\"value\",hue=\"AreaBulatanKe\",data=merge)\n",
    "BoxPlotAreaBulatanm.set_title(\"BoxPlot AreaBulatan1 dan AreaBulatan2\")\n",
    "BoxPlotAreaBulatanm\n",
    "\n",
    "# Cara 2 Gambar Satu-Satu\n",
    "# # Penggambaran Boxplot\n",
    "# BoxPlotAreaBulatan1= sns.boxplot(data=AreaBulatan1)\n",
    "# BoxPlotAreaBulatan1.set_title(\"BoxPlot AreaBulatan1\")\n",
    "# # Penggambaran Boxplot\n",
    "# BoxPlotAreaBulatan2= sns.boxplot(data=AreaBulatan2)\n",
    "# BoxPlotAreaBulatan2.set_title(\"BoxPlot AreaBulatan2\")  "
   ]
  },
  {
   "cell_type": "markdown",
   "metadata": {},
   "source": [
    "## 2. Data kolom Kadar Air dibagi 2 sama rata: bagian awal dan bagian akhir kolom. Benarkah rata-rata bagian awal lebih besar dari pada bagian akhir sebesar 0.2?"
   ]
  },
  {
   "cell_type": "code",
   "execution_count": null,
   "metadata": {},
   "outputs": [],
   "source": [
    "print(\"Data kolom Kadar Air dibagi 2 sama rata: bagian awal dan bagian akhir kolom. Benarkah rata-rata bagian awal lebih besar dari pada bagian akhir sebesar 0.2?\")\n",
    "# Langkah 1\n",
    "H0 = \"μ1-μ2=0.2\"\n",
    "print(\"1. H0 : {}\".format(H0))\n",
    "\n",
    "# Langkah 2\n",
    "H1 = \"μ1-μ2>0.2\"\n",
    "print(\"2. H1 : {}\".format(H1))\n",
    "\n",
    "# Langkah 3\n",
    "α = 5e-2\n",
    "print(\"3. α = {}\".format(α))\n",
    "\n",
    "# Langkah 4\n",
    "\n",
    "zα = round(st.norm.ppf(1-α),3)\n",
    "print(\"4. Uji Statistik : z=((x̄1-x̄2)-d0)/sqrt(σ1²/n1+σ2²/n2), σ diketahui\")\n",
    "print(\"   Daerah Kritis : z>zα : z>{} \".format(zα))\n",
    "\n",
    "# Langkah 5\n",
    "d0 = 0.2\n",
    "KadarAir1 = KadarAir[:len(KadarAir)//2]\n",
    "x̄1 = KadarAir1.mean()\n",
    "σ1_pow2 = KadarAir1.std()**2\n",
    "n1 = len(KadarAir1)\n",
    "KadarAir2 = KadarAir[len(KadarAir)//2:]\n",
    "KadarAir2.reset_index(inplace=True, drop=True)\n",
    "x̄2 = KadarAir2.mean()\n",
    "σ2_pow2 = KadarAir2.std()**2\n",
    "n2 = len(KadarAir2)\n",
    "z = round(Z_testStatistic_dual(x̄1,x̄2,d0,σ1_pow2,σ2_pow2,n1,n2),3)\n",
    "p_value = round(1-st.norm.cdf(z),3)\n",
    "print(\"5. Komputasi\")\n",
    "print(\"   x̄1 : {} \\n   σ1²: {} \\n   n1: {} \\n   x̄2: {} \\n   σ2²: {} \\n   n2: {}\".format(x̄1,σ1_pow2,n1,x̄2,σ2_pow2,n2))\n",
    "print(\"   p_value : {} \\n   z: {}\".format(str(p_value),str(z)))\n",
    "\n",
    "# Langkah 6\n",
    "print(\"6. Test Daerah Kritis\")\n",
    "if (z > zα):\n",
    "    print(\"   Tolak H0 karena nilai uji = {}>{} (z>zα)\".format(str(z),str(zα)))\n",
    "    print(\"   Selisih rata-rata kadar air bagian awal lebih besar dari pada bagian akhir sebesar 0.2 \")\n",
    "else :\n",
    "    print(\"   Terima H0 karena nilai uji = {}<={} (z<=zα)\".format(str(z),str(zα_div2)))\n",
    "    print(\"   Selisih rata-rata kadar air  dari bagian awal dan bagian akhir sebesar 0.2\")  "
   ]
  },
  {
   "cell_type": "code",
   "execution_count": null,
   "metadata": {},
   "outputs": [],
   "source": [
    "dfKadarAir1 = pd.DataFrame(data=KadarAir1.tolist()).assign(KadarAirKe=1)\n",
    "dfKadarAir2 = pd.DataFrame(data=KadarAir2.tolist()).assign(KadarAirKe=2)\n",
    "\n",
    "combine = pd.concat([dfKadarAir1,dfKadarAir2],sort=False)  \n",
    "merge = pd.melt(combine, id_vars=['KadarAirKe'], var_name=['KadarAir'])\n",
    "\n",
    "# Konfigurasi Boxplot\n",
    "plt.figure(figsize=(10,8))\n",
    "plt.grid()\n",
    "# Penggambaran Boxplot Gabungan\n",
    "BoxPlotKadarAirm= sns.boxplot(x=\"KadarAir\",y=\"value\",hue=\"KadarAirKe\",data=merge)\n",
    "BoxPlotKadarAirm.set_title(\"BoxPlot KadarAir1 dan KadarAir2\")\n",
    "BoxPlotKadarAirm\n",
    "\n",
    "# Cara 2 Gambar Satu-Satu\n",
    "# # Penggambaran Boxplot\n",
    "# BoxPlotKadarAir1= sns.boxplot(data=KadarAir1)\n",
    "# BoxPlotKadarAir1.set_title(\"BoxPlot KadarAir1\")\n",
    "# # Penggambaran Boxplot\n",
    "# BoxPlotKadarAir2= sns.boxplot(data=KadarAir2)\n",
    "# BoxPlotKadarAir2.set_title(\"BoxPlot KadarAir2\")  "
   ]
  },
  {
   "cell_type": "markdown",
   "metadata": {},
   "source": [
    "## 3. Rata-rata 20 baris pertama kolom Bulatan sama dengan 20 baris terakhirnya?"
   ]
  },
  {
   "cell_type": "code",
   "execution_count": null,
   "metadata": {},
   "outputs": [],
   "source": [
    "print(\"Rata-rata 20 baris pertama kolom Bulatan sama dengan 20 baris terakhirnya?\")\n",
    "# Langkah 1\n",
    "H0 = \"μ1=μ2\"\n",
    "print(\"1. H0 : {}\".format(H0))\n",
    "\n",
    "# Langkah 2\n",
    "H1 = \"μ1≠μ2 -> μ1-μ2≠0\"\n",
    "print(\"2. H1 : {}\".format(H1))\n",
    "\n",
    "# Langkah 3\n",
    "α = 5e-2\n",
    "print(\"3. α = {}\".format(α))\n",
    "\n",
    "# Langkah 4\n",
    "zα_div2 = round(st.norm.ppf(1-(α/2)),3)\n",
    "print(\"4. Uji Statistik : z=((x̄1-x̄2)-d0)/sqrt(σ1²/n1+σ2²/n2), σ diketahui\")\n",
    "print(\"   Daerah Kritis : z>zα/2 atau z <-zα/2 : z>{} atau z<{}\".format(zα_div2,zα_div2))\n",
    "\n",
    "# Langkah 5\n",
    "d0 = 0\n",
    "Bulatan1 = Bulatan[:20]\n",
    "x̄1 = Bulatan1.mean()\n",
    "σ1_pow2 = Bulatan1.std()**2\n",
    "n1 = len(Bulatan1)\n",
    "Bulatan2 = Bulatan[len(AreaBulatan)-20:]\n",
    "Bulatan2.reset_index(inplace=True, drop=True)\n",
    "x̄2 = Bulatan2.mean()\n",
    "σ2_pow2 = Bulatan2.std()**2\n",
    "n2 = len(Bulatan2)\n",
    "z = round(Z_testStatistic_dual(x̄1,x̄2,d0,σ1_pow2,σ2_pow2,n1,n2),3)\n",
    "p_value = round(1-st.norm.cdf(z),3)\n",
    "print(\"5. Komputasi\")\n",
    "print(\"   x̄1 : {} \\n   σ1²: {} \\n   n1: {} \\n   x̄2: {} \\n   σ2²: {} \\n   n2: {}\".format(x̄1,σ1_pow2,n1,x̄2,σ2_pow2,n2))\n",
    "print(\"   p_value : {},{} \\n   z: {}\".format(str(p_value),str(1-p_value),str(z)))\n",
    "\n",
    "# Langkah 6\n",
    "print(\"6. Test Daerah Kritis\")\n",
    "if (z > zα_div2 or z < -1*zα_div2):\n",
    "    if (z > zα_div2):\n",
    "        print(\"   Tolak H0 karena nilai uji = {}>{} (z>zα)\".format(z,zα_div2))\n",
    "    else:\n",
    "        print(\"   Tolak H0 karena nilai uji = {}<{} (z<zα)\".format(z,-1*zα_div2))\n",
    "    print(\"   Rata-rata 20 baris pertama kolom Bulatan tidak sama dengan 20 baris terakhirnya\")\n",
    "else :\n",
    "    print(\"   Terima H0 karena nilai uji = {}<{}<{} (-zα<z<zα)\".format(-1*zα_div2,z,zα_div2))\n",
    "    print(\"   Rata-rata 20 baris pertama kolom Bulatan sama dengan 20 baris terakhirnya\")  "
   ]
  },
  {
   "cell_type": "code",
   "execution_count": null,
   "metadata": {},
   "outputs": [],
   "source": [
    "dfBulatan1 = pd.DataFrame(data=Bulatan1.tolist()).assign(BulatanKe=1)\n",
    "dfBulatan2 = pd.DataFrame(data=Bulatan2.tolist()).assign(BulatanKe=2)\n",
    "\n",
    "combine = pd.concat([dfBulatan1,dfBulatan2],sort=False)  \n",
    "merge = pd.melt(combine, id_vars=['BulatanKe'], var_name=['Bulatan'])\n",
    "\n",
    "# Konfigurasi Boxplot\n",
    "plt.figure(figsize=(10,8))\n",
    "plt.grid()\n",
    "# Penggambaran Boxplot Gabungan\n",
    "BoxPlotBulatanm= sns.boxplot(x=\"Bulatan\",y=\"value\",hue=\"BulatanKe\",data=merge)\n",
    "BoxPlotBulatanm.set_title(\"BoxPlot Bulatan1 dan Bulatan2\")\n",
    "BoxPlotBulatanm\n",
    "\n",
    "# Cara 2 Gambar Satu-Satu\n",
    "# # Penggambaran Boxplot\n",
    "# BoxPlotBulatan1= sns.boxplot(data=Bulatan1)\n",
    "# BoxPlotBulatan1.set_title(\"BoxPlot Bulatan1\")\n",
    "# # Penggambaran Boxplot\n",
    "# BoxPlotBulatan2= sns.boxplot(data=Bulatan2)\n",
    "# BoxPlotBulatan2.set_title(\"BoxPlot Bulatan2\")  "
   ]
  },
  {
   "cell_type": "markdown",
   "metadata": {},
   "source": [
    "## 4. Proporsi nilai bagian awal Ransum yang lebih dari 2, adalah lebih besar daripada, proporsi nilai yang sama di bagian akhir Ransum? "
   ]
  },
  {
   "cell_type": "code",
   "execution_count": null,
   "metadata": {},
   "outputs": [],
   "source": [
    "print(\"Proporsi bagian awal Ransum yang lebih dari 2 lebih besar daripada, proporsi nilai yang sama di bagian akhir Ransum>\")\n",
    "# Langkah 1\n",
    "H0 = \"p1=p2 -> p1-p2=0\"\n",
    "print(\"1. H0 : {}\".format(H0))\n",
    "\n",
    "# Langkah 2\n",
    "H1 = \"p1>p2 -> p1-p2>0\"\n",
    "print(\"2. H1 : {}\".format(H1))\n",
    "\n",
    "# Langkah 3\n",
    "α = 5e-2\n",
    "print(\"3. α = {}\".format(α))\n",
    "\n",
    "# Langkah 4\n",
    "zα = round(st.norm.ppf(1-α),3)\n",
    "print(\"4. Uji Statistik : z=(p̂1-p̂2)/sqrt(p̂*q̂*(1/n1+1/n2)), σ diketahui\")\n",
    "print(\"   Daerah Kritis : z>zα : z>{}\".format(zα))\n",
    "\n",
    "# Langkah 5\n",
    "Ransum1 = Ransum[:len(Ransum)//2]\n",
    "Ransum1_moreThan2 = [ransum for ransum in Ransum1 if ransum >2]\n",
    "n1 = len(Ransum1)\n",
    "x1 = len(Ransum1_moreThan2)\n",
    "p̂1 = round(float(x1/n1),3)\n",
    "Ransum2 = Ransum[len(Ransum)//2:]\n",
    "Ransum2.reset_index(inplace=True, drop=True)\n",
    "Ransum2_moreThan2 = [ransum for ransum in Ransum2 if ransum >2]\n",
    "n2 = len(Ransum2)\n",
    "x2 = len(Ransum2_moreThan2)\n",
    "p̂2 = round(float(x2/n2),3)\n",
    "p̂ = round(float((x1+x2)/(n1+n2)),3)\n",
    "q̂ = 1-p̂\n",
    "z = round(Z_testStatistic_dualNormal(p̂1,p̂2,p̂,q̂,n1,n2),3)\n",
    "p_value = round(1-st.norm.cdf(z),3)\n",
    "print(\"5. Komputasi\")\n",
    "print(\"   n1 : {} \\n   x1: {} \\n   p̂1: {} \\n   n2: {} \\n   x2: {} \\n   p̂2: {} \\n   p̂: {} \\n   q̂: {}\".format(n1,x1,p̂1,n2,x2,p̂2,p̂,q̂))\n",
    "print(\"   p_value : {},{} \\n   z: {}\".format(str(p_value),str(1-p_value),str(z)))\n",
    "\n",
    "# Langkah 6\n",
    "print(\"6. Test Daerah Kritis\")\n",
    "if (z > zα):\n",
    "    print(\"   Tolak H0 karena nilai uji = {}>{} (z>zα)\".format(str(z),str(zα)))\n",
    "    print(\"   Proporsi bagian awal Ransum yang lebih dari 2 lebih besar daripada proporsi nilai yang sama di bagian akhir Ransum\")\n",
    "else :\n",
    "    print(\"   Terima H0 karena nilai uji = {}<={} (z<=zα)\".format(str(z),str(zα)))\n",
    "    print(\"   Proporsi bagian awal Ransum yang lebih dari 2 kurang dari atau sama dengan proporsi nilai yang sama di bagian akhir Ransum\")  "
   ]
  },
  {
   "cell_type": "code",
   "execution_count": null,
   "metadata": {},
   "outputs": [],
   "source": [
    "dfRansum1 = pd.DataFrame(data=Ransum1.tolist()).assign(RansumKe=1)\n",
    "dfRansum2 = pd.DataFrame(data=Ransum2.tolist()).assign(RansumKe=2)\n",
    "\n",
    "combine = pd.concat([dfRansum1,dfRansum2],sort=False)  \n",
    "merge = pd.melt(combine, id_vars=['RansumKe'], var_name=['Ransum'])\n",
    "\n",
    "# Konfigurasi Boxplot\n",
    "plt.figure(figsize=(10,8))\n",
    "plt.grid()\n",
    "# Penggambaran Boxplot Gabungan\n",
    "BoxPlotRansumm= sns.boxplot(x=\"Ransum\",y=\"value\",hue=\"RansumKe\",data=merge)\n",
    "BoxPlotRansumm.set_title(\"BoxPlot Ransum1 dan Ransum2\")\n",
    "BoxPlotRansumm\n",
    "\n",
    "# Cara 2 Gambar Satu-Satu\n",
    "# # Penggambaran Boxplot\n",
    "# BoxPlotRansum1= sns.boxplot(data=Ransum1)\n",
    "# BoxPlotRansum1.set_title(\"BoxPlot Ransum1\")\n",
    "# # Penggambaran Boxplot\n",
    "# BoxPlotRansum2= sns.boxplot(data=Ransum2)\n",
    "# BoxPlotRansum2.set_title(\"BoxPlot Ransum2\")  "
   ]
  },
  {
   "cell_type": "markdown",
   "metadata": {},
   "source": [
    "## 5. Bagian awal kolom Diameter memiliki variansi yang sama dengan bagian akhirnya?"
   ]
  },
  {
   "cell_type": "code",
   "execution_count": null,
   "metadata": {},
   "outputs": [],
   "source": [
    "print(\"Rata-rata 20 baris pertama kolom Bulatan sama dengan 20 baris terakhirnya?\")\n",
    "# Langkah 1\n",
    "H0 = \"σ1²=σ2²\"\n",
    "print(\"1. H0 : {}\".format(H0))\n",
    "\n",
    "# Langkah 2\n",
    "H1 = \"σ1²≠σ2² -> σ1²-σ2²≠0\"\n",
    "print(\"2. H1 : {}\".format(H1))\n",
    "\n",
    "# Langkah 3\n",
    "α = 1e-1\n",
    "print(\"3. α = {}\".format(α))\n",
    "\n",
    "# Langkah 4\n",
    "Diameter1 = Diameter[:len(Diameter)//2]\n",
    "Diameter2 = Diameter[len(Diameter)//2:]\n",
    "Diameter2.reset_index(inplace=True, drop=True)\n",
    "n1 = len(Diameter1)\n",
    "n2 = len(Diameter2)\n",
    "v1 = n1-1\n",
    "v2 = n2-1\n",
    "fα_div2 = round(st.f.ppf(q=1-α/2, dfn=v1, dfd=v2),3)\n",
    "f1_min_αdiv2 = round((1.0/round(st.f.ppf(q=1-α/2, dfn=v2, dfd=v1),3)),3)\n",
    "print(\"4. Uji Statistik : z=((x̄1-x̄2)-d0)/np.sqrt(σ1²/n1+σ2²/n2), σ diketahui\")\n",
    "print(\"   Daerah Kritis : f>fα/2(v1,v2) atau f <f1-α/2(v1,v2) : f>{} atau f<{}\".format(fα_div2,f1_min_αdiv2))\n",
    "\n",
    "# Langkah 5\n",
    "s1 = Diameter1.std()\n",
    "s2 = Diameter2.std()\n",
    "f = round(X_testStatisticDual(s1,s2),3)\n",
    "p_value = round(1-st.f.cdf(f,dfn=v1,dfd=v2),3)\n",
    "print(\"5. Komputasi\")\n",
    "print(\"   n1 : {} \\n   σ1: {} \\n   v1: {} \\n   n2: {} \\n   σ2: {} \\n   v2: {}\".format(n1,s1,v1,n2,s2,v2))\n",
    "print(\"   p_value : {},{} \\n   z: {}\".format(str(p_value),str(1-p_value),str(z)))\n",
    "\n",
    "# # Langkah 6\n",
    "print(\"6. Test Daerah Kritis\")\n",
    "if (f > fα_div2 or f < f1_min_αdiv2):\n",
    "    if (f > fα_div2):\n",
    "        print(\"   Tolak H0 karena nilai uji = {}>{} (f > fα/2)\".format(f,fα_div2))\n",
    "    else:\n",
    "        print(\"   Tolak H0 karena nilai uji = {}<{} (f < f1-α/2)\".format(f,f1_min_αdiv2))\n",
    "    print(\"   Bagian awal kolom Diameter memiliki variansi yang tidak sama dengan bagian akhirnya\")\n",
    "else :\n",
    "    print(\"   Terima H0 karena nilai uji = {}<{}<{} (-zα<z<zα)\".format(f1_min_αdiv2,f,fα_div2))\n",
    "    print(\"   Bagian awal kolom Diameter memiliki variansi yang sama dengan bagian akhirnya\")  "
   ]
  },
  {
   "cell_type": "code",
   "execution_count": null,
   "metadata": {},
   "outputs": [],
   "source": [
    "dfDiameter1 = pd.DataFrame(data=Diameter1.tolist()).assign(DiameterKe=1)\n",
    "dfDiameter2 = pd.DataFrame(data=Diameter2.tolist()).assign(DiameterKe=2)\n",
    "\n",
    "combine = pd.concat([dfDiameter1,dfDiameter2],sort=False)  \n",
    "merge = pd.melt(combine, id_vars=['DiameterKe'], var_name=['Diameter'])\n",
    "\n",
    "# Konfigurasi Boxplot\n",
    "plt.figure(figsize=(10,8))\n",
    "plt.grid()\n",
    "# Penggambaran Boxplot Gabungan\n",
    "BoxPlotDiameterm= sns.boxplot(x=\"Diameter\",y=\"value\",hue=\"DiameterKe\",data=merge)\n",
    "BoxPlotDiameterm.set_title(\"BoxPlot Diameter1 dan Diameter2\")\n",
    "BoxPlotDiameterm\n",
    "\n",
    "# Cara 2 Gambar Satu-Satu\n",
    "# # Penggambaran Boxplot\n",
    "# BoxPlotDiameter1= sns.boxplot(data=Diameter1)\n",
    "# BoxPlotDiameter1.set_title(\"BoxPlot Diameter1\")\n",
    "# # Penggambaran Boxplot\n",
    "# BoxPlotDiameter2= sns.boxplot(data=Diameter2)\n",
    "# BoxPlotDiameter2.set_title(\"BoxPlot Diameter2\")  "
   ]
  },
  {
   "cell_type": "code",
   "execution_count": null,
   "metadata": {},
   "outputs": [],
   "source": []
  }
 ],
 "metadata": {
  "kernelspec": {
   "display_name": "Python 3",
   "language": "python",
   "name": "python3"
  },
  "language_info": {
   "codemirror_mode": {
    "name": "ipython",
    "version": 3
   },
   "file_extension": ".py",
   "mimetype": "text/x-python",
   "name": "python",
   "nbconvert_exporter": "python",
   "pygments_lexer": "ipython3",
   "version": "3.9.1"
  }
 },
 "nbformat": 4,
 "nbformat_minor": 2
}
